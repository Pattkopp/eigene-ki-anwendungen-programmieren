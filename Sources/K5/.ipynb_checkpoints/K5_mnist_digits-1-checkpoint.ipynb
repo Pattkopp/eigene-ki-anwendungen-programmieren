{
 "cells": [
  {
   "cell_type": "markdown",
   "id": "11e1deb9-f203-4938-a7e0-9e3cf708f955",
   "metadata": {},
   "source": [
    "Benötigte Module importieren und Datei laden. Die ersten Zeilen werden ausgegeben."
   ]
  },
  {
   "cell_type": "code",
   "execution_count": null,
   "id": "6df77660-8df4-48bb-9c8a-3fce12e5c541",
   "metadata": {},
   "outputs": [
    {
     "name": "stderr",
     "output_type": "stream",
     "text": [
      "2023-05-20 12:34:44.252770: I tensorflow/core/platform/cpu_feature_guard.cc:193] This TensorFlow binary is optimized with oneAPI Deep Neural Network Library (oneDNN) to use the following CPU instructions in performance-critical operations:  SSE4.1 SSE4.2 AVX AVX2 FMA\n",
      "To enable them in other operations, rebuild TensorFlow with the appropriate compiler flags.\n"
     ]
    }
   ],
   "source": [
    "import pandas as pd\n",
    "import tensorflow as tf\n",
    "from sklearn.model_selection import train_test_split\n",
    "import matplotlib.pyplot as plt\n",
    "\n",
    "(train_data, train_col), (test_data, test_col) = tf.keras.datasets.mnist.load_data()"
   ]
  },
  {
   "cell_type": "markdown",
   "id": "6572a434-7dfc-4fcf-9a1e-ce041a29277f",
   "metadata": {},
   "source": [
    "Eine Zahl ausgeben"
   ]
  },
  {
   "cell_type": "code",
   "execution_count": 11,
   "id": "0096578f-5799-4873-aacc-cbf137ca4293",
   "metadata": {},
   "outputs": [
    {
     "data": {
      "image/png": "[encoded data removed]",
      "text/plain": [
       "<Figure size 640x480 with 1 Axes>"
      ]
     },
     "metadata": {},
     "output_type": "display_data"
    }
   ],
   "source": [
    "index = 111\n",
    "\n",
    "plt.imshow(train_data[index], cmap='Greys')\n",
    "plt.xlabel(train_col[index])\n",
    "plt.show()"
   ]
  },
  {
   "cell_type": "markdown",
   "id": "d224bc75-6906-4849-bd17-45893e5a289a",
   "metadata": {},
   "source": [
    "KNN aufbauen und konfigurieren"
   ]
  },
  {
   "cell_type": "code",
   "execution_count": 12,
   "id": "4bbff244-7ba0-439f-9c07-921afb0788ed",
   "metadata": {},
   "outputs": [],
   "source": [
    "# Aufbau KNN\n",
    "model = tf.keras.Sequential([\n",
    "    tf.keras.layers.Flatten(input_shape=(28, 28)),\n",
    "    tf.keras.layers.Dense(256, activation=tf.nn.relu),\n",
    "    tf.keras.layers.Dense(10, activation=tf.nn.softmax)\n",
    "])\n",
    "# Konfiguration des Lernprozesses\n",
    "model.compile(optimizer='adam', loss='sparse_categorical_crossentropy', metrics=['accuracy'])"
   ]
  },
  {
   "cell_type": "code",
   "execution_count": 13,
   "id": "4d85229a-b68d-45d9-8645-96812b586494",
   "metadata": {},
   "outputs": [
    {
     "name": "stdout",
     "output_type": "stream",
     "text": [
      "Model: \"sequential_1\"\n",
      "_________________________________________________________________\n",
      " Layer (type)                Output Shape              Param #   \n",
      "=================================================================\n",
      " flatten_1 (Flatten)         (None, 784)               0         \n",
      "                                                                 \n",
      " dense_2 (Dense)             (None, 256)               200960    \n",
      "                                                                 \n",
      " dense_3 (Dense)             (None, 10)                2570      \n",
      "                                                                 \n",
      "=================================================================\n",
      "Total params: 203,530\n",
      "Trainable params: 203,530\n",
      "Non-trainable params: 0\n",
      "_________________________________________________________________\n"
     ]
    }
   ],
   "source": [
    "model.summary()"
   ]
  },
  {
   "cell_type": "code",
   "execution_count": 4,
   "id": "453b819d-4b7b-4f33-958f-d8c9ecd73f52",
   "metadata": {},
   "outputs": [
    {
     "name": "stdout",
     "output_type": "stream",
     "text": [
      "Epoch 1/7\n",
      "1875/1875 [==============================] - 3s 1ms/step - loss: 2.3489 - accuracy: 0.8869\n",
      "Epoch 2/7\n",
      "1875/1875 [==============================] - 3s 1ms/step - loss: 0.3264 - accuracy: 0.9285\n",
      "Epoch 3/7\n",
      "1875/1875 [==============================] - 2s 1ms/step - loss: 0.2713 - accuracy: 0.9371\n",
      "Epoch 4/7\n",
      "1875/1875 [==============================] - 2s 1ms/step - loss: 0.2415 - accuracy: 0.9433\n",
      "Epoch 5/7\n",
      "1875/1875 [==============================] - 2s 1ms/step - loss: 0.2280 - accuracy: 0.9475\n",
      "Epoch 6/7\n",
      "1875/1875 [==============================] - 2s 1ms/step - loss: 0.2045 - accuracy: 0.9529\n",
      "Epoch 7/7\n",
      "1875/1875 [==============================] - 3s 1ms/step - loss: 0.1920 - accuracy: 0.9561\n"
     ]
    },
    {
     "data": {
      "text/plain": [
       "<keras.callbacks.History at 0x7fb2a97a6a70>"
      ]
     },
     "execution_count": 4,
     "metadata": {},
     "output_type": "execute_result"
    }
   ],
   "source": [
    "# 7 Durchläufe\n",
    "model.fit(train_data, train_col, epochs=7)"
   ]
  },
  {
   "cell_type": "code",
   "execution_count": 5,
   "id": "73793074-8982-4ed4-b400-463d5baf0c55",
   "metadata": {},
   "outputs": [
    {
     "name": "stdout",
     "output_type": "stream",
     "text": [
      "313/313 [==============================] - 0s 987us/step - loss: 0.2613 - accuracy: 0.9507\n",
      "Test accuracy: 0.9506999850273132\n"
     ]
    }
   ],
   "source": [
    "test_loss, test_acc = model.evaluate(test_data, test_col)\n",
    "print('Test accuracy:', test_acc)"
   ]
  }
 ],
 "metadata": {
  "kernelspec": {
   "display_name": "Python 3 (ipykernel)",
   "language": "python",
   "name": "python3"
  },
  "language_info": {
   "codemirror_mode": {
    "name": "ipython",
    "version": 3
   },
   "file_extension": ".py",
   "mimetype": "text/x-python",
   "name": "python",
   "nbconvert_exporter": "python",
   "pygments_lexer": "ipython3",
   "version": "3.10.9"
  }
 },
 "nbformat": 4,
 "nbformat_minor": 5
}
