{
 "cells": [
  {
   "cell_type": "code",
   "execution_count": null,
   "id": "a25a4f7a-f292-40a1-8664-9db9951dec25",
   "metadata": {},
   "outputs": [],
   "source": [
    "import pygad"
   ]
  },
  {
   "cell_type": "code",
   "execution_count": null,
   "id": "1c251abe-5430-4313-b6ac-f996d9b803d7",
   "metadata": {},
   "outputs": [],
   "source": [
    "# Hyperparameter\n",
    "\n",
    "# Anzahl der Gene\n",
    "num_genes = 10\n",
    "# Anzahl der Generationen\n",
    "num_generations = 50 #auch 100 testen\n",
    "# Anzahl der Chromosomen\n",
    "sol_per_pop = 100\n",
    "# Anzahl der Eltern\n",
    "num_parents_mating = 10\n",
    "# Wahrscheinlichkeit zur Mutation\n",
    "mutation_percent_genes = 20\n",
    "\n",
    "# untere Grenze der Zufallszahl\n",
    "init_range_low = 0\n",
    "# obere Grenze der Zufallszahl\n",
    "init_range_high = 10\n",
    "# Datentyp\n",
    "gene_type = int"
   ]
  },
  {
   "cell_type": "code",
   "execution_count": null,
   "id": "e0fcc32a-a5bc-44f9-a3f0-80e9c2bc9167",
   "metadata": {},
   "outputs": [],
   "source": [
    "# Fitnessfunktion\n",
    "\n",
    "# die Parameter sind \"vorgegeben\"\n",
    "# solution ist besonders wichtig, enthält die Liste\n",
    "def fitness_func(ga_instance, solution, solution_idx):\n",
    "    fitness = 0\n",
    "    for i in range(len(solution)):\n",
    "        if i == solution[i]:\n",
    "            fitness = fitness + 1\n",
    "    return fitness"
   ]
  },
  {
   "cell_type": "code",
   "execution_count": null,
   "id": "98b0d9bf-1940-43d1-aa2c-1c75753f8551",
   "metadata": {},
   "outputs": [],
   "source": [
    "# lege eine Instanz an\n",
    "ga_instance = pygad.GA(num_generations=num_generations,\n",
    "                       num_parents_mating=num_parents_mating,\n",
    "                       fitness_func=fitness_func,\n",
    "                       sol_per_pop=sol_per_pop,\n",
    "                       init_range_low=init_range_low,\n",
    "                       init_range_high=init_range_high,\n",
    "                       num_genes=num_genes,\n",
    "                       mutation_percent_genes=mutation_percent_genes,\n",
    "                       gene_type=gene_type)\n",
    "\n",
    "# starte Evolutionszyklus\n",
    "ga_instance.run()"
   ]
  },
  {
   "cell_type": "code",
   "execution_count": null,
   "id": "55b55e82-f584-4bac-aab8-b85a484aa4e9",
   "metadata": {},
   "outputs": [],
   "source": [
    "# ermittle Ergebnisliste, Fitnesswert und Index der Ergebnisliste (hier nicht benötigt)\n",
    "solution, solution_fitness, solution_idx = ga_instance.best_solution()\n",
    "\n",
    "print(\"Beste Parameter:\", solution)\n",
    "print(\"Höchster Fitnesswert:\", solution_fitness)"
   ]
  },
  {
   "cell_type": "code",
   "execution_count": null,
   "id": "1a41f429-34d5-4fb6-8f8f-b104676ef553",
   "metadata": {},
   "outputs": [],
   "source": [
    "# plotte das Ergebnis\n",
    "ga_instance.plot_fitness()"
   ]
  },
  {
   "cell_type": "code",
   "execution_count": null,
   "id": "3ce0aa1a-e9b3-44a3-b5d8-6e03b1cf5cb0",
   "metadata": {},
   "outputs": [],
   "source": []
  }
 ],
 "metadata": {
  "kernelspec": {
   "display_name": "Python 3 (ipykernel)",
   "language": "python",
   "name": "python3"
  },
  "language_info": {
   "codemirror_mode": {
    "name": "ipython",
    "version": 3
   },
   "file_extension": ".py",
   "mimetype": "text/x-python",
   "name": "python",
   "nbconvert_exporter": "python",
   "pygments_lexer": "ipython3",
   "version": "3.11.5"
  }
 },
 "nbformat": 4,
 "nbformat_minor": 5
}
