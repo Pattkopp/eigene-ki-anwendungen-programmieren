{
 "cells": [
  {
   "cell_type": "markdown",
   "id": "11e1deb9-f203-4938-a7e0-9e3cf708f955",
   "metadata": {},
   "source": [
    "Benötigte Module importieren und Datei laden. Die ersten Zeilen werden ausgegeben."
   ]
  },
  {
   "cell_type": "code",
   "execution_count": 1,
   "id": "6df77660-8df4-48bb-9c8a-3fce12e5c541",
   "metadata": {},
   "outputs": [
    {
     "name": "stderr",
     "output_type": "stream",
     "text": [
      "2023-06-05 10:29:34.919198: I tensorflow/core/platform/cpu_feature_guard.cc:193] This TensorFlow binary is optimized with oneAPI Deep Neural Network Library (oneDNN) to use the following CPU instructions in performance-critical operations:  SSE4.1 SSE4.2 AVX AVX2 FMA\n",
      "To enable them in other operations, rebuild TensorFlow with the appropriate compiler flags.\n"
     ]
    },
    {
     "name": "stdout",
     "output_type": "stream",
     "text": [
      "   Time        V1        V2        V3        V4        V5        V6        V7  \\\n",
      "0   0.0 -1.359807 -0.072781  2.536347  1.378155 -0.338321  0.462388  0.239599   \n",
      "1   0.0  1.191857  0.266151  0.166480  0.448154  0.060018 -0.082361 -0.078803   \n",
      "2   1.0 -1.358354 -1.340163  1.773209  0.379780 -0.503198  1.800499  0.791461   \n",
      "3   1.0 -0.966272 -0.185226  1.792993 -0.863291 -0.010309  1.247203  0.237609   \n",
      "4   2.0 -1.158233  0.877737  1.548718  0.403034 -0.407193  0.095921  0.592941   \n",
      "\n",
      "         V8        V9  ...       V21       V22       V23       V24       V25  \\\n",
      "0  0.098698  0.363787  ... -0.018307  0.277838 -0.110474  0.066928  0.128539   \n",
      "1  0.085102 -0.255425  ... -0.225775 -0.638672  0.101288 -0.339846  0.167170   \n",
      "2  0.247676 -1.514654  ...  0.247998  0.771679  0.909412 -0.689281 -0.327642   \n",
      "3  0.377436 -1.387024  ... -0.108300  0.005274 -0.190321 -1.175575  0.647376   \n",
      "4 -0.270533  0.817739  ... -0.009431  0.798278 -0.137458  0.141267 -0.206010   \n",
      "\n",
      "        V26       V27       V28  Amount  Class  \n",
      "0 -0.189115  0.133558 -0.021053  149.62      0  \n",
      "1  0.125895 -0.008983  0.014724    2.69      0  \n",
      "2 -0.139097 -0.055353 -0.059752  378.66      0  \n",
      "3 -0.221929  0.062723  0.061458  123.50      0  \n",
      "4  0.502292  0.219422  0.215153   69.99      0  \n",
      "\n",
      "[5 rows x 31 columns]\n"
     ]
    }
   ],
   "source": [
    "import tensorflow as tf\n",
    "import pandas as pd\n",
    "from sklearn.model_selection import train_test_split\n",
    "from sklearn.utils import resample\n",
    "from sklearn.metrics import mean_absolute_error\n",
    "from keras.models import Model\n",
    "from sklearn.preprocessing import StandardScaler\n",
    "import numpy as np\n",
    "\n",
    "path = \"../Data/creditcard.csv\"\n",
    "data = pd.read_csv(path, delimiter=',')\n",
    "print(data.head())"
   ]
  },
  {
   "cell_type": "markdown",
   "id": "6572a434-7dfc-4fcf-9a1e-ce041a29277f",
   "metadata": {},
   "source": [
    "Daten vorbereiten."
   ]
  },
  {
   "cell_type": "code",
   "execution_count": 2,
   "id": "507f41d6-76a2-496f-a3b4-486d00ee47ae",
   "metadata": {},
   "outputs": [
    {
     "name": "stdout",
     "output_type": "stream",
     "text": [
      "(227451, 29)\n"
     ]
    }
   ],
   "source": [
    "# Spalte Amount normieren\n",
    "s_scaler = StandardScaler()\n",
    "cols_to_s_scale=['Amount']\n",
    "data[cols_to_s_scale] = s_scaler.fit_transform(data[cols_to_s_scale])\n",
    "\n",
    "# entferne Time\n",
    "data.drop(['Time'], axis = 1, inplace=True)\n",
    "\n",
    "# Aufteilung in zwei Tabellen (beide enthalten noch die Zielspalte Class)\n",
    "train_data, test_data = train_test_split(data, test_size=0.2, random_state=42)\n",
    "\n",
    "# trainiert wird nur mit normalen Daten\n",
    "train_data = train_data[train_data['Class']==0]\n",
    "# entferne Zielspalte, wird nicht benötigt\n",
    "train_data.drop(['Class'], axis = 1, inplace=True)\n",
    "\n",
    "# von den Testdaten wird die Zielspalte entfernt und in einer variablen gespeichert\n",
    "test_col = test_data['Class']\n",
    "test_data.drop(['Class'], axis = 1, inplace=True)\n",
    "\n",
    "print(train_data.shape)"
   ]
  },
  {
   "cell_type": "markdown",
   "id": "825811a9-2abc-4da7-8c31-b8c7d0857fc3",
   "metadata": {},
   "source": [
    "Autoencoder aufbauen"
   ]
  },
  {
   "cell_type": "code",
   "execution_count": 3,
   "id": "ffca4618-066d-4267-9859-86ff221bf545",
   "metadata": {},
   "outputs": [
    {
     "name": "stdout",
     "output_type": "stream",
     "text": [
      "Model: \"encoder\"\n",
      "_________________________________________________________________\n",
      " Layer (type)                Output Shape              Param #   \n",
      "=================================================================\n",
      " dense (Dense)               (None, 20)                600       \n",
      "                                                                 \n",
      " dense_1 (Dense)             (None, 10)                210       \n",
      "                                                                 \n",
      " dense_2 (Dense)             (None, 5)                 55        \n",
      "                                                                 \n",
      "=================================================================\n",
      "Total params: 865\n",
      "Trainable params: 865\n",
      "Non-trainable params: 0\n",
      "_________________________________________________________________\n",
      "Model: \"decoder\"\n",
      "_________________________________________________________________\n",
      " Layer (type)                Output Shape              Param #   \n",
      "=================================================================\n",
      " dense_3 (Dense)             (None, 10)                60        \n",
      "                                                                 \n",
      " dense_4 (Dense)             (None, 20)                220       \n",
      "                                                                 \n",
      " dense_5 (Dense)             (None, 29)                609       \n",
      "                                                                 \n",
      "=================================================================\n",
      "Total params: 889\n",
      "Trainable params: 889\n",
      "Non-trainable params: 0\n",
      "_________________________________________________________________\n",
      "Model: \"autoencoder\"\n"
     ]
    },
    {
     "name": "stderr",
     "output_type": "stream",
     "text": [
      "2023-06-05 10:29:39.987467: I tensorflow/core/platform/cpu_feature_guard.cc:193] This TensorFlow binary is optimized with oneAPI Deep Neural Network Library (oneDNN) to use the following CPU instructions in performance-critical operations:  SSE4.1 SSE4.2 AVX AVX2 FMA\n",
      "To enable them in other operations, rebuild TensorFlow with the appropriate compiler flags.\n"
     ]
    },
    {
     "name": "stdout",
     "output_type": "stream",
     "text": [
      "_________________________________________________________________\n",
      " Layer (type)                Output Shape              Param #   \n",
      "=================================================================\n",
      " encoder (Sequential)        (None, 5)                 865       \n",
      "                                                                 \n",
      " decoder (Sequential)        (None, 29)                889       \n",
      "                                                                 \n",
      "=================================================================\n",
      "Total params: 1,754\n",
      "Trainable params: 1,754\n",
      "Non-trainable params: 0\n",
      "_________________________________________________________________\n"
     ]
    }
   ],
   "source": [
    "encoder = tf.keras.Sequential(name='encoder')\n",
    "encoder.add(layer=tf.keras.layers.Dense(units=20, activation=tf.nn.sigmoid, input_shape=[29]))\n",
    "encoder.add(layer=tf.keras.layers.Dense(units=10, activation=tf.nn.sigmoid))\n",
    "encoder.add(layer=tf.keras.layers.Dense(units=5, activation=tf.nn.sigmoid))\n",
    "\n",
    "decoder = tf.keras.Sequential(name='decoder')\n",
    "decoder.add(layer=tf.keras.layers.Dense(units=10, activation=tf.nn.sigmoid, input_shape=[5]))\n",
    "decoder.add(layer=tf.keras.layers.Dense(units=20, activation=tf.nn.sigmoid))\n",
    "decoder.add(layer=tf.keras.layers.Dense(units=29, activation=tf.nn.sigmoid))\n",
    "\n",
    "autoencoder = tf.keras.Sequential([encoder, decoder], name='autoencoder')\n",
    "\n",
    "autoencoder.compile(optimizer='adam', loss='mae', metrics=['mae'])\n",
    "\n",
    "encoder.summary()\n",
    "decoder.summary()\n",
    "autoencoder.summary()"
   ]
  },
  {
   "cell_type": "markdown",
   "id": "20d17c5c-dfea-4d37-8936-0ef5a2cbbe8f",
   "metadata": {},
   "source": [
    "Training"
   ]
  },
  {
   "cell_type": "code",
   "execution_count": 4,
   "id": "4bbff244-7ba0-439f-9c07-921afb0788ed",
   "metadata": {},
   "outputs": [
    {
     "name": "stdout",
     "output_type": "stream",
     "text": [
      "Epoch 1/100\n",
      "14216/14216 [==============================] - 19s 1ms/step - loss: 0.6321 - mae: 0.6321 - val_loss: 0.6278 - val_mae: 0.6278\n",
      "Epoch 2/100\n",
      "14216/14216 [==============================] - 17s 1ms/step - loss: 0.6216 - mae: 0.6216 - val_loss: 0.6223 - val_mae: 0.6223\n",
      "Epoch 3/100\n",
      "14216/14216 [==============================] - 17s 1ms/step - loss: 0.6161 - mae: 0.6161 - val_loss: 0.6182 - val_mae: 0.6182\n",
      "Epoch 4/100\n",
      "14216/14216 [==============================] - 17s 1ms/step - loss: 0.6077 - mae: 0.6077 - val_loss: 0.6060 - val_mae: 0.6060\n",
      "Epoch 5/100\n",
      "14216/14216 [==============================] - 21s 1ms/step - loss: 0.5995 - mae: 0.5995 - val_loss: 0.6013 - val_mae: 0.6013\n",
      "Epoch 6/100\n",
      "14216/14216 [==============================] - 19s 1ms/step - loss: 0.5954 - mae: 0.5954 - val_loss: 0.5982 - val_mae: 0.5982\n",
      "Epoch 7/100\n",
      "14216/14216 [==============================] - 18s 1ms/step - loss: 0.5931 - mae: 0.5931 - val_loss: 0.5964 - val_mae: 0.5964\n",
      "Epoch 8/100\n",
      "14216/14216 [==============================] - 17s 1ms/step - loss: 0.5913 - mae: 0.5913 - val_loss: 0.5947 - val_mae: 0.5947\n",
      "Epoch 9/100\n",
      "14216/14216 [==============================] - 18s 1ms/step - loss: 0.5902 - mae: 0.5902 - val_loss: 0.5940 - val_mae: 0.5940\n",
      "Epoch 10/100\n",
      "14216/14216 [==============================] - 18s 1ms/step - loss: 0.5894 - mae: 0.5894 - val_loss: 0.5931 - val_mae: 0.5931\n",
      "Epoch 11/100\n",
      "14216/14216 [==============================] - 17s 1ms/step - loss: 0.5886 - mae: 0.5886 - val_loss: 0.5924 - val_mae: 0.5924\n",
      "Epoch 12/100\n",
      "14216/14216 [==============================] - 18s 1ms/step - loss: 0.5878 - mae: 0.5878 - val_loss: 0.5916 - val_mae: 0.5916\n",
      "Epoch 13/100\n",
      "14216/14216 [==============================] - 17s 1ms/step - loss: 0.5870 - mae: 0.5870 - val_loss: 0.5908 - val_mae: 0.5908\n",
      "Epoch 14/100\n",
      "14216/14216 [==============================] - 18s 1ms/step - loss: 0.5864 - mae: 0.5864 - val_loss: 0.5902 - val_mae: 0.5902\n",
      "Epoch 15/100\n",
      "14216/14216 [==============================] - 17s 1ms/step - loss: 0.5856 - mae: 0.5856 - val_loss: 0.5896 - val_mae: 0.5896\n",
      "Epoch 16/100\n",
      "14216/14216 [==============================] - 17s 1ms/step - loss: 0.5844 - mae: 0.5844 - val_loss: 0.5878 - val_mae: 0.5878\n",
      "Epoch 17/100\n",
      "14216/14216 [==============================] - 17s 1ms/step - loss: 0.5828 - mae: 0.5828 - val_loss: 0.5863 - val_mae: 0.5863\n",
      "Epoch 18/100\n",
      "14216/14216 [==============================] - 17s 1ms/step - loss: 0.5813 - mae: 0.5813 - val_loss: 0.5848 - val_mae: 0.5848\n",
      "Epoch 19/100\n",
      "14216/14216 [==============================] - 21s 1ms/step - loss: 0.5802 - mae: 0.5802 - val_loss: 0.5841 - val_mae: 0.5841\n",
      "Epoch 20/100\n",
      "14216/14216 [==============================] - 18s 1ms/step - loss: 0.5794 - mae: 0.5794 - val_loss: 0.5833 - val_mae: 0.5833\n",
      "Epoch 21/100\n",
      "14216/14216 [==============================] - 17s 1ms/step - loss: 0.5787 - mae: 0.5787 - val_loss: 0.5828 - val_mae: 0.5828\n",
      "Epoch 22/100\n",
      "14216/14216 [==============================] - 17s 1ms/step - loss: 0.5779 - mae: 0.5779 - val_loss: 0.5819 - val_mae: 0.5819\n",
      "Epoch 23/100\n",
      "14216/14216 [==============================] - 17s 1ms/step - loss: 0.5772 - mae: 0.5772 - val_loss: 0.5813 - val_mae: 0.5813\n",
      "Epoch 24/100\n",
      "14216/14216 [==============================] - 17s 1ms/step - loss: 0.5766 - mae: 0.5766 - val_loss: 0.5808 - val_mae: 0.5808\n",
      "Epoch 25/100\n",
      "14216/14216 [==============================] - 18s 1ms/step - loss: 0.5763 - mae: 0.5763 - val_loss: 0.5804 - val_mae: 0.5804\n",
      "Epoch 26/100\n",
      "14216/14216 [==============================] - 18s 1ms/step - loss: 0.5757 - mae: 0.5757 - val_loss: 0.5794 - val_mae: 0.5794\n",
      "Epoch 27/100\n",
      "14216/14216 [==============================] - 17s 1ms/step - loss: 0.5747 - mae: 0.5747 - val_loss: 0.5789 - val_mae: 0.5789\n",
      "Epoch 28/100\n",
      "14216/14216 [==============================] - 17s 1ms/step - loss: 0.5744 - mae: 0.5744 - val_loss: 0.5789 - val_mae: 0.5789\n",
      "Epoch 29/100\n",
      "14216/14216 [==============================] - 17s 1ms/step - loss: 0.5742 - mae: 0.5742 - val_loss: 0.5787 - val_mae: 0.5787\n",
      "Epoch 30/100\n",
      "14216/14216 [==============================] - 19s 1ms/step - loss: 0.5740 - mae: 0.5740 - val_loss: 0.5787 - val_mae: 0.5787\n"
     ]
    },
    {
     "data": {
      "text/plain": [
       "<keras.callbacks.History at 0x7fe66854b2b0>"
      ]
     },
     "execution_count": 4,
     "metadata": {},
     "output_type": "execute_result"
    }
   ],
   "source": [
    "cb_early = tf.keras.callbacks.EarlyStopping(monitor='val_loss', patience=1)\n",
    "\n",
    "autoencoder.fit(train_data, train_data, validation_data=(test_data, test_data), epochs=100, batch_size=16, callbacks=[cb_early])"
   ]
  },
  {
   "cell_type": "markdown",
   "id": "2840c920-48ed-4db7-89dc-2c43bcd2b2f3",
   "metadata": {},
   "source": [
    "Threshold berechnen, nur mit den \"normalen\" Trainingsdaten"
   ]
  },
  {
   "cell_type": "code",
   "execution_count": 5,
   "id": "92d0992d-2224-4968-94ce-fbcb128f4057",
   "metadata": {},
   "outputs": [
    {
     "name": "stdout",
     "output_type": "stream",
     "text": [
      "7108/7108 [==============================] - 5s 676us/step\n",
      "Threshold: 0.5742814843223968\n"
     ]
    }
   ],
   "source": [
    "train_pred = autoencoder.predict(train_data)\n",
    "threshold = mean_absolute_error(train_pred, train_data)\n",
    "\n",
    "print(\"Threshold:\", threshold)"
   ]
  },
  {
   "cell_type": "markdown",
   "id": "015e9491-da0c-4065-a881-3297ce53ba28",
   "metadata": {},
   "source": [
    "Spalte mit vorhersagen generieren, mit komplette Testdaten"
   ]
  },
  {
   "cell_type": "code",
   "execution_count": 26,
   "id": "cff2df3a-b265-4817-87c5-eb0bb5eda82a",
   "metadata": {},
   "outputs": [
    {
     "name": "stdout",
     "output_type": "stream",
     "text": [
      "1781/1781 [==============================] - 1s 711us/step\n"
     ]
    }
   ],
   "source": [
    "new_threshold = 0.82\n",
    "\n",
    "test_pred = autoencoder.predict(test_data)\n",
    "maes = tf.keras.losses.mae(test_data, test_pred)\n",
    "pred_col_bool = tf.math.less(new_threshold, maes)\n",
    "pred_col = tf.cast(pred_col_bool, dtype=tf.int32)"
   ]
  },
  {
   "cell_type": "code",
   "execution_count": 27,
   "id": "43fa417c-7409-4827-9979-e77180645e5e",
   "metadata": {},
   "outputs": [
    {
     "data": {
      "text/plain": [
       "<sklearn.metrics._plot.confusion_matrix.ConfusionMatrixDisplay at 0x7fe6cba3f520>"
      ]
     },
     "execution_count": 27,
     "metadata": {},
     "output_type": "execute_result"
    },
    {
     "data": {
      "image/png": "[encoded data removed]",
      "text/plain": [
       "<Figure size 640x480 with 2 Axes>"
      ]
     },
     "metadata": {},
     "output_type": "display_data"
    }
   ],
   "source": [
    "from sklearn.metrics import confusion_matrix, ConfusionMatrixDisplay\n",
    "\n",
    "cm = confusion_matrix(test_col, pred_col)\n",
    "\n",
    "disp = ConfusionMatrixDisplay(cm)\n",
    "\n",
    "disp.plot()"
   ]
  },
  {
   "cell_type": "code",
   "execution_count": null,
   "id": "d30ae391-a36b-4352-9593-8289d61dda55",
   "metadata": {},
   "outputs": [],
   "source": []
  }
 ],
 "metadata": {
  "kernelspec": {
   "display_name": "Python 3 (ipykernel)",
   "language": "python",
   "name": "python3"
  },
  "language_info": {
   "codemirror_mode": {
    "name": "ipython",
    "version": 3
   },
   "file_extension": ".py",
   "mimetype": "text/x-python",
   "name": "python",
   "nbconvert_exporter": "python",
   "pygments_lexer": "ipython3",
   "version": "3.10.9"
  }
 },
 "nbformat": 4,
 "nbformat_minor": 5
}
