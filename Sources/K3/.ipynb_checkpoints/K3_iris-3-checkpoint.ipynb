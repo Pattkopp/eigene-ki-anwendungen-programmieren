{
 "cells": [
  {
   "cell_type": "markdown",
   "id": "11e1deb9-f203-4938-a7e0-9e3cf708f955",
   "metadata": {},
   "source": [
    "Benötigte Module importieren und Datei laden. Die ersten Zeilen werden ausgegeben."
   ]
  },
  {
   "cell_type": "code",
   "execution_count": 1,
   "id": "6df77660-8df4-48bb-9c8a-3fce12e5c541",
   "metadata": {},
   "outputs": [
    {
     "name": "stderr",
     "output_type": "stream",
     "text": [
      "2023-04-29 13:16:44.684667: I tensorflow/core/platform/cpu_feature_guard.cc:193] This TensorFlow binary is optimized with oneAPI Deep Neural Network Library (oneDNN) to use the following CPU instructions in performance-critical operations:  SSE4.1 SSE4.2 AVX AVX2 FMA\n",
      "To enable them in other operations, rebuild TensorFlow with the appropriate compiler flags.\n"
     ]
    },
    {
     "name": "stdout",
     "output_type": "stream",
     "text": [
      "   sepal.length  sepal.width  petal.length  petal.width species\n",
      "0           5.1          3.5           1.4          0.2  Setosa\n",
      "1           4.9          3.0           1.4          0.2  Setosa\n",
      "2           4.7          3.2           1.3          0.2  Setosa\n",
      "3           4.6          3.1           1.5          0.2  Setosa\n",
      "4           5.0          3.6           1.4          0.2  Setosa\n",
      "Empty columns:  Index(['sepal.length', 'petal.length', 'species'], dtype='object')\n"
     ]
    }
   ],
   "source": [
    "import tensorflow as tf\n",
    "import pandas as pd\n",
    "from sklearn.model_selection import train_test_split\n",
    "\n",
    "path = \"../Data/iris_empty.csv\"\n",
    "data = pd.read_csv(path, delimiter=',')\n",
    "\n",
    "print(data.head())\n",
    "print(\"Empty columns: \", data.columns[data.isnull().any()])"
   ]
  },
  {
   "cell_type": "markdown",
   "id": "6572a434-7dfc-4fcf-9a1e-ce041a29277f",
   "metadata": {},
   "source": [
    "Daten vorbereiten."
   ]
  },
  {
   "cell_type": "code",
   "execution_count": 2,
   "id": "f59f7f64-b877-406b-9821-5b997360fcb6",
   "metadata": {},
   "outputs": [],
   "source": [
    "# Leere Zellen mit Mittelwerten der Spalten füllen\n",
    "data['sepal.length'] = data['sepal.length'].fillna(data['sepal.length'].mean())\n",
    "data['petal.length'] = data['petal.length'].fillna(data['petal.length'].mean())\n",
    "data['species'] = data['species'].fillna(\"empty\")\n",
    "\n",
    "# Was soll vorhergesagt werden? Spaltenname in Variable speichern.\n",
    "col_name = 'species'\n",
    "\n",
    "# Zeichenkette in OHE umwandeln, Ergebniss in neuer Tabelle\n",
    "col = pd.get_dummies(data[col_name])\n",
    "\n",
    "# Aus der ursprünglichen Tabell werden die species entfernt,  Ergbnisse in neuer Tabelle\n",
    "data = data.drop([col_name], axis = 1)\n",
    "#Somit zwei Tabellen vorhanden"
   ]
  },
  {
   "cell_type": "markdown",
   "id": "d224bc75-6906-4849-bd17-45893e5a289a",
   "metadata": {},
   "source": [
    "KNN aufbauen"
   ]
  },
  {
   "cell_type": "code",
   "execution_count": 3,
   "id": "4bbff244-7ba0-439f-9c07-921afb0788ed",
   "metadata": {},
   "outputs": [
    {
     "name": "stderr",
     "output_type": "stream",
     "text": [
      "2023-04-29 13:16:47.386599: I tensorflow/core/platform/cpu_feature_guard.cc:193] This TensorFlow binary is optimized with oneAPI Deep Neural Network Library (oneDNN) to use the following CPU instructions in performance-critical operations:  SSE4.1 SSE4.2 AVX AVX2 FMA\n",
      "To enable them in other operations, rebuild TensorFlow with the appropriate compiler flags.\n"
     ]
    }
   ],
   "source": [
    "# Aus den zwei Tabellen vier Tabellen erzeugen\n",
    "train_data, test_data, train_col, test_col = train_test_split(data,col, test_size=0.2, random_state=42)\n",
    "\n",
    "# Aufbau KNN\n",
    "model = tf.keras.Sequential([\n",
    "    tf.keras.layers.Dense(32, activation=tf.nn.sigmoid, input_dim=4),\n",
    "    tf.keras.layers.Dense(64, activation=tf.nn.sigmoid),\n",
    "    tf.keras.layers.Dense(4, activation=tf.nn.softmax)\n",
    "])\n",
    "# Konfiguration des Lernprozesses\n",
    "model.compile(optimizer='adam', loss='categorical_crossentropy', metrics=['accuracy'])"
   ]
  },
  {
   "cell_type": "markdown",
   "id": "beda700c-73d4-4506-8225-1ab33cc6c448",
   "metadata": {},
   "source": [
    "Trainieren"
   ]
  },
  {
   "cell_type": "code",
   "execution_count": 4,
   "id": "4a50fdb9-255c-4438-819e-a8c8d0614aa2",
   "metadata": {},
   "outputs": [
    {
     "name": "stdout",
     "output_type": "stream",
     "text": [
      "Epoch 1/50\n",
      "4/4 [==============================] - 0s 2ms/step - loss: 1.5711 - accuracy: 0.3250\n",
      "Epoch 2/50\n",
      "4/4 [==============================] - 0s 2ms/step - loss: 1.4558 - accuracy: 0.3417\n",
      "Epoch 3/50\n",
      "4/4 [==============================] - 0s 2ms/step - loss: 1.3541 - accuracy: 0.6333\n",
      "Epoch 4/50\n",
      "4/4 [==============================] - 0s 2ms/step - loss: 1.2750 - accuracy: 0.6500\n",
      "Epoch 5/50\n",
      "4/4 [==============================] - 0s 3ms/step - loss: 1.2206 - accuracy: 0.6500\n",
      "Epoch 6/50\n",
      "4/4 [==============================] - 0s 3ms/step - loss: 1.1777 - accuracy: 0.6500\n",
      "Epoch 7/50\n",
      "4/4 [==============================] - 0s 4ms/step - loss: 1.1501 - accuracy: 0.6500\n",
      "Epoch 8/50\n",
      "4/4 [==============================] - 0s 4ms/step - loss: 1.1338 - accuracy: 0.6583\n",
      "Epoch 9/50\n",
      "4/4 [==============================] - 0s 2ms/step - loss: 1.1179 - accuracy: 0.4250\n",
      "Epoch 10/50\n",
      "4/4 [==============================] - 0s 4ms/step - loss: 1.1039 - accuracy: 0.4500\n",
      "Epoch 11/50\n",
      "4/4 [==============================] - 0s 2ms/step - loss: 1.0908 - accuracy: 0.6083\n",
      "Epoch 12/50\n",
      "4/4 [==============================] - 0s 3ms/step - loss: 1.0788 - accuracy: 0.6583\n",
      "Epoch 13/50\n",
      "4/4 [==============================] - 0s 3ms/step - loss: 1.0672 - accuracy: 0.7417\n",
      "Epoch 14/50\n",
      "4/4 [==============================] - 0s 2ms/step - loss: 1.0573 - accuracy: 0.7333\n",
      "Epoch 15/50\n",
      "4/4 [==============================] - 0s 4ms/step - loss: 1.0458 - accuracy: 0.7000\n",
      "Epoch 16/50\n",
      "4/4 [==============================] - 0s 2ms/step - loss: 1.0349 - accuracy: 0.8333\n",
      "Epoch 17/50\n",
      "4/4 [==============================] - 0s 2ms/step - loss: 1.0239 - accuracy: 0.8417\n",
      "Epoch 18/50\n",
      "4/4 [==============================] - 0s 3ms/step - loss: 1.0124 - accuracy: 0.7250\n",
      "Epoch 19/50\n",
      "4/4 [==============================] - 0s 1ms/step - loss: 1.0000 - accuracy: 0.8667\n",
      "Epoch 20/50\n",
      "4/4 [==============================] - 0s 4ms/step - loss: 0.9866 - accuracy: 0.8083\n",
      "Epoch 21/50\n",
      "4/4 [==============================] - 0s 3ms/step - loss: 0.9730 - accuracy: 0.7667\n",
      "Epoch 22/50\n",
      "4/4 [==============================] - 0s 3ms/step - loss: 0.9590 - accuracy: 0.7833\n",
      "Epoch 23/50\n",
      "4/4 [==============================] - 0s 2ms/step - loss: 0.9465 - accuracy: 0.8833\n",
      "Epoch 24/50\n",
      "4/4 [==============================] - 0s 2ms/step - loss: 0.9295 - accuracy: 0.9000\n",
      "Epoch 25/50\n",
      "4/4 [==============================] - 0s 4ms/step - loss: 0.9141 - accuracy: 0.9000\n",
      "Epoch 26/50\n",
      "4/4 [==============================] - 0s 1ms/step - loss: 0.8998 - accuracy: 0.8333\n",
      "Epoch 27/50\n",
      "4/4 [==============================] - 0s 2ms/step - loss: 0.8815 - accuracy: 0.7833\n",
      "Epoch 28/50\n",
      "4/4 [==============================] - 0s 3ms/step - loss: 0.8650 - accuracy: 0.7333\n",
      "Epoch 29/50\n",
      "4/4 [==============================] - 0s 1ms/step - loss: 0.8488 - accuracy: 0.7167\n",
      "Epoch 30/50\n",
      "4/4 [==============================] - 0s 2ms/step - loss: 0.8334 - accuracy: 0.8333\n",
      "Epoch 31/50\n",
      "4/4 [==============================] - 0s 2ms/step - loss: 0.8151 - accuracy: 0.8917\n",
      "Epoch 32/50\n",
      "4/4 [==============================] - 0s 1ms/step - loss: 0.7978 - accuracy: 0.8750\n",
      "Epoch 33/50\n",
      "4/4 [==============================] - 0s 1ms/step - loss: 0.7812 - accuracy: 0.8750\n",
      "Epoch 34/50\n",
      "4/4 [==============================] - 0s 3ms/step - loss: 0.7648 - accuracy: 0.8500\n",
      "Epoch 35/50\n",
      "4/4 [==============================] - 0s 1ms/step - loss: 0.7490 - accuracy: 0.8333\n",
      "Epoch 36/50\n",
      "4/4 [==============================] - 0s 2ms/step - loss: 0.7327 - accuracy: 0.8000\n",
      "Epoch 37/50\n",
      "4/4 [==============================] - 0s 2ms/step - loss: 0.7174 - accuracy: 0.7667\n",
      "Epoch 38/50\n",
      "4/4 [==============================] - 0s 2ms/step - loss: 0.7025 - accuracy: 0.8167\n",
      "Epoch 39/50\n",
      "4/4 [==============================] - 0s 2ms/step - loss: 0.6877 - accuracy: 0.8333\n",
      "Epoch 40/50\n",
      "4/4 [==============================] - 0s 2ms/step - loss: 0.6739 - accuracy: 0.8750\n",
      "Epoch 41/50\n",
      "4/4 [==============================] - 0s 1ms/step - loss: 0.6618 - accuracy: 0.8833\n",
      "Epoch 42/50\n",
      "4/4 [==============================] - 0s 3ms/step - loss: 0.6486 - accuracy: 0.9083\n",
      "Epoch 43/50\n",
      "4/4 [==============================] - 0s 2ms/step - loss: 0.6364 - accuracy: 0.9583\n",
      "Epoch 44/50\n",
      "4/4 [==============================] - 0s 1ms/step - loss: 0.6247 - accuracy: 0.9583\n",
      "Epoch 45/50\n",
      "4/4 [==============================] - 0s 2ms/step - loss: 0.6144 - accuracy: 0.9333\n",
      "Epoch 46/50\n",
      "4/4 [==============================] - 0s 2ms/step - loss: 0.6043 - accuracy: 0.9083\n",
      "Epoch 47/50\n",
      "4/4 [==============================] - 0s 2ms/step - loss: 0.5937 - accuracy: 0.9083\n",
      "Epoch 48/50\n",
      "4/4 [==============================] - 0s 1ms/step - loss: 0.5846 - accuracy: 0.9500\n",
      "Epoch 49/50\n",
      "4/4 [==============================] - 0s 3ms/step - loss: 0.5756 - accuracy: 0.9583\n",
      "Epoch 50/50\n",
      "4/4 [==============================] - 0s 1ms/step - loss: 0.5672 - accuracy: 0.9583\n"
     ]
    },
    {
     "data": {
      "text/plain": [
       "<keras.callbacks.History at 0x7ff258375030>"
      ]
     },
     "execution_count": 4,
     "metadata": {},
     "output_type": "execute_result"
    }
   ],
   "source": [
    "# 50 Durchläufe\n",
    "model.fit(train_data, train_col, epochs=50)"
   ]
  },
  {
   "cell_type": "markdown",
   "id": "ea0a81e9-2436-43a7-ab5d-8f1c5dd92677",
   "metadata": {},
   "source": [
    "Testen"
   ]
  },
  {
   "cell_type": "code",
   "execution_count": 5,
   "id": "8688ed41-9918-4357-b390-f7fb248d7de4",
   "metadata": {},
   "outputs": [
    {
     "name": "stdout",
     "output_type": "stream",
     "text": [
      "1/1 [==============================] - 0s 116ms/step - loss: 0.5098 - accuracy: 1.0000\n",
      "Test accuracy: 1.0\n"
     ]
    }
   ],
   "source": [
    "test_loss, test_acc = model.evaluate(test_data, test_col)\n",
    "print('Test accuracy:', test_acc)"
   ]
  },
  {
   "cell_type": "code",
   "execution_count": null,
   "id": "e2f8db76-91ec-4a9c-857f-de58489adaab",
   "metadata": {},
   "outputs": [],
   "source": []
  }
 ],
 "metadata": {
  "kernelspec": {
   "display_name": "Python 3 (ipykernel)",
   "language": "python",
   "name": "python3"
  },
  "language_info": {
   "codemirror_mode": {
    "name": "ipython",
    "version": 3
   },
   "file_extension": ".py",
   "mimetype": "text/x-python",
   "name": "python",
   "nbconvert_exporter": "python",
   "pygments_lexer": "ipython3",
   "version": "3.10.9"
  }
 },
 "nbformat": 4,
 "nbformat_minor": 5
}
