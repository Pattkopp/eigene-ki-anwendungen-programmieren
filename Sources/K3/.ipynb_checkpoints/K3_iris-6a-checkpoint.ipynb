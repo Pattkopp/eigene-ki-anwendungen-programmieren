{
 "cells": [
  {
   "cell_type": "markdown",
   "id": "11e1deb9-f203-4938-a7e0-9e3cf708f955",
   "metadata": {},
   "source": [
    "Benötigte Module importieren und Datei laden. Die ersten Zeilen werden ausgegeben."
   ]
  },
  {
   "cell_type": "code",
   "execution_count": 1,
   "id": "6df77660-8df4-48bb-9c8a-3fce12e5c541",
   "metadata": {},
   "outputs": [
    {
     "name": "stderr",
     "output_type": "stream",
     "text": [
      "2023-04-30 12:31:51.345340: I tensorflow/core/platform/cpu_feature_guard.cc:193] This TensorFlow binary is optimized with oneAPI Deep Neural Network Library (oneDNN) to use the following CPU instructions in performance-critical operations:  SSE4.1 SSE4.2 AVX AVX2 FMA\n",
      "To enable them in other operations, rebuild TensorFlow with the appropriate compiler flags.\n"
     ]
    }
   ],
   "source": [
    "import tensorflow as tf\n",
    "import pandas as pd\n",
    "from sklearn.model_selection import train_test_split\n",
    "from sklearn.preprocessing import LabelEncoder, StandardScaler\n",
    "import joblib\n",
    "\n",
    "path = \"../Data/iris.csv\"\n",
    "data = pd.read_csv(path, delimiter=',')"
   ]
  },
  {
   "cell_type": "code",
   "execution_count": 2,
   "id": "1d0f1f56-94cc-4757-827f-d29e8f1b7de5",
   "metadata": {},
   "outputs": [
    {
     "name": "stdout",
     "output_type": "stream",
     "text": [
      "All correlations\n",
      "------------------------------\n",
      "sepal.length    2.807265\n",
      "sepal.width     1.912136\n",
      "petal.length    3.263059\n",
      "petal.width     3.146932\n",
      "dtype: float64\n",
      "Weakest correlations\n",
      "------------------------------\n",
      "sepal.width     1.912136\n",
      "sepal.length    2.807265\n",
      "petal.width     3.146932\n",
      "petal.length    3.263059\n",
      "dtype: float64\n"
     ]
    }
   ],
   "source": [
    "# Ausgabe der Korrelationen\n",
    "correlations = data[data.columns].corr(numeric_only=True)\n",
    "print('All correlations')\n",
    "print('-' * 30)\n",
    "correlations_abs_sum = correlations[correlations.columns].abs().sum()\n",
    "print(correlations_abs_sum)\n",
    "print('Weakest correlations')\n",
    "print('-' * 30)\n",
    "print(correlations_abs_sum.nsmallest(5))"
   ]
  },
  {
   "cell_type": "code",
   "execution_count": 3,
   "id": "9e9639b7-1bc7-4bcd-b469-1a29d887fd63",
   "metadata": {},
   "outputs": [],
   "source": [
    "# species soll vorhergesagt werden\n",
    "le = LabelEncoder()\n",
    "col = le.fit_transform(data['species'])\n",
    "data = data.drop(['species'], axis = 1)\n",
    "\n",
    "# Erzeuge Objekt\n",
    "s_scaler = StandardScaler()\n",
    "# Spalten für StandardScaler\n",
    "data = s_scaler.fit_transform(data)"
   ]
  },
  {
   "cell_type": "markdown",
   "id": "6572a434-7dfc-4fcf-9a1e-ce041a29277f",
   "metadata": {},
   "source": [
    "Daten vorbereiten."
   ]
  },
  {
   "cell_type": "markdown",
   "id": "d224bc75-6906-4849-bd17-45893e5a289a",
   "metadata": {},
   "source": [
    "KNN aufbauen"
   ]
  },
  {
   "cell_type": "code",
   "execution_count": 4,
   "id": "4bbff244-7ba0-439f-9c07-921afb0788ed",
   "metadata": {},
   "outputs": [
    {
     "name": "stderr",
     "output_type": "stream",
     "text": [
      "2023-04-30 12:31:54.802078: I tensorflow/core/platform/cpu_feature_guard.cc:193] This TensorFlow binary is optimized with oneAPI Deep Neural Network Library (oneDNN) to use the following CPU instructions in performance-critical operations:  SSE4.1 SSE4.2 AVX AVX2 FMA\n",
      "To enable them in other operations, rebuild TensorFlow with the appropriate compiler flags.\n"
     ]
    }
   ],
   "source": [
    "# Aus den zwei Tabellen vier Tabellen erzeugen\n",
    "train_data, test_data, train_col, test_col = train_test_split(data,col, test_size=0.2, random_state=42)\n",
    "\n",
    "# Aufbau KNN\n",
    "model = tf.keras.Sequential([\n",
    "    tf.keras.layers.Dense(32, activation=tf.nn.sigmoid, input_dim=data.shape[1]),\n",
    "    tf.keras.layers.Dense(64, activation=tf.nn.sigmoid),\n",
    "    tf.keras.layers.Dense(3, activation=tf.nn.softmax)\n",
    "])\n",
    "# Konfiguration des Lernprozesses\n",
    "model.compile(optimizer='adam', loss='sparse_categorical_crossentropy', metrics=['accuracy'])"
   ]
  },
  {
   "cell_type": "markdown",
   "id": "beda700c-73d4-4506-8225-1ab33cc6c448",
   "metadata": {},
   "source": [
    "Trainieren"
   ]
  },
  {
   "cell_type": "code",
   "execution_count": 5,
   "id": "4a50fdb9-255c-4438-819e-a8c8d0614aa2",
   "metadata": {},
   "outputs": [
    {
     "name": "stdout",
     "output_type": "stream",
     "text": [
      "Epoch 1/70\n",
      "4/4 [==============================] - 0s 2ms/step - loss: 1.3175 - accuracy: 0.3333\n",
      "Epoch 2/70\n",
      "4/4 [==============================] - 0s 1ms/step - loss: 1.2084 - accuracy: 0.3333\n",
      "Epoch 3/70\n",
      "4/4 [==============================] - 0s 2ms/step - loss: 1.1514 - accuracy: 0.3417\n",
      "Epoch 4/70\n",
      "4/4 [==============================] - 0s 2ms/step - loss: 1.1132 - accuracy: 0.4167\n",
      "Epoch 5/70\n",
      "4/4 [==============================] - 0s 3ms/step - loss: 1.0994 - accuracy: 0.3583\n",
      "Epoch 6/70\n",
      "4/4 [==============================] - 0s 3ms/step - loss: 1.0895 - accuracy: 0.3500\n",
      "Epoch 7/70\n",
      "4/4 [==============================] - 0s 2ms/step - loss: 1.0872 - accuracy: 0.3583\n",
      "Epoch 8/70\n",
      "4/4 [==============================] - 0s 4ms/step - loss: 1.0779 - accuracy: 0.3417\n",
      "Epoch 9/70\n",
      "4/4 [==============================] - 0s 4ms/step - loss: 1.0715 - accuracy: 0.3750\n",
      "Epoch 10/70\n",
      "4/4 [==============================] - 0s 3ms/step - loss: 1.0604 - accuracy: 0.5083\n",
      "Epoch 11/70\n",
      "4/4 [==============================] - 0s 2ms/step - loss: 1.0517 - accuracy: 0.6833\n",
      "Epoch 12/70\n",
      "4/4 [==============================] - 0s 3ms/step - loss: 1.0429 - accuracy: 0.7583\n",
      "Epoch 13/70\n",
      "4/4 [==============================] - 0s 2ms/step - loss: 1.0356 - accuracy: 0.6833\n",
      "Epoch 14/70\n",
      "4/4 [==============================] - 0s 3ms/step - loss: 1.0269 - accuracy: 0.6667\n",
      "Epoch 15/70\n",
      "4/4 [==============================] - 0s 2ms/step - loss: 1.0190 - accuracy: 0.6667\n",
      "Epoch 16/70\n",
      "4/4 [==============================] - 0s 2ms/step - loss: 1.0109 - accuracy: 0.6750\n",
      "Epoch 17/70\n",
      "4/4 [==============================] - 0s 2ms/step - loss: 1.0022 - accuracy: 0.7000\n",
      "Epoch 18/70\n",
      "4/4 [==============================] - 0s 3ms/step - loss: 0.9932 - accuracy: 0.7417\n",
      "Epoch 19/70\n",
      "4/4 [==============================] - 0s 2ms/step - loss: 0.9834 - accuracy: 0.7333\n",
      "Epoch 20/70\n",
      "4/4 [==============================] - 0s 3ms/step - loss: 0.9746 - accuracy: 0.7667\n",
      "Epoch 21/70\n",
      "4/4 [==============================] - 0s 4ms/step - loss: 0.9656 - accuracy: 0.7917\n",
      "Epoch 22/70\n",
      "4/4 [==============================] - 0s 3ms/step - loss: 0.9544 - accuracy: 0.8000\n",
      "Epoch 23/70\n",
      "4/4 [==============================] - 0s 4ms/step - loss: 0.9436 - accuracy: 0.8250\n",
      "Epoch 24/70\n",
      "4/4 [==============================] - 0s 3ms/step - loss: 0.9325 - accuracy: 0.8000\n",
      "Epoch 25/70\n",
      "4/4 [==============================] - 0s 2ms/step - loss: 0.9224 - accuracy: 0.7500\n",
      "Epoch 26/70\n",
      "4/4 [==============================] - 0s 3ms/step - loss: 0.9103 - accuracy: 0.7333\n",
      "Epoch 27/70\n",
      "4/4 [==============================] - 0s 3ms/step - loss: 0.8985 - accuracy: 0.7667\n",
      "Epoch 28/70\n",
      "4/4 [==============================] - 0s 3ms/step - loss: 0.8863 - accuracy: 0.8083\n",
      "Epoch 29/70\n",
      "4/4 [==============================] - 0s 2ms/step - loss: 0.8736 - accuracy: 0.8083\n",
      "Epoch 30/70\n",
      "4/4 [==============================] - 0s 2ms/step - loss: 0.8614 - accuracy: 0.8250\n",
      "Epoch 31/70\n",
      "4/4 [==============================] - 0s 2ms/step - loss: 0.8483 - accuracy: 0.8083\n",
      "Epoch 32/70\n",
      "4/4 [==============================] - 0s 3ms/step - loss: 0.8349 - accuracy: 0.8167\n",
      "Epoch 33/70\n",
      "4/4 [==============================] - 0s 3ms/step - loss: 0.8212 - accuracy: 0.8167\n",
      "Epoch 34/70\n",
      "4/4 [==============================] - 0s 3ms/step - loss: 0.8069 - accuracy: 0.8417\n",
      "Epoch 35/70\n",
      "4/4 [==============================] - 0s 2ms/step - loss: 0.7927 - accuracy: 0.8250\n",
      "Epoch 36/70\n",
      "4/4 [==============================] - 0s 3ms/step - loss: 0.7787 - accuracy: 0.8500\n",
      "Epoch 37/70\n",
      "4/4 [==============================] - 0s 2ms/step - loss: 0.7645 - accuracy: 0.8333\n",
      "Epoch 38/70\n",
      "4/4 [==============================] - 0s 4ms/step - loss: 0.7497 - accuracy: 0.8500\n",
      "Epoch 39/70\n",
      "4/4 [==============================] - 0s 4ms/step - loss: 0.7352 - accuracy: 0.8333\n",
      "Epoch 40/70\n",
      "4/4 [==============================] - 0s 3ms/step - loss: 0.7217 - accuracy: 0.8167\n",
      "Epoch 41/70\n",
      "4/4 [==============================] - 0s 3ms/step - loss: 0.7075 - accuracy: 0.8083\n",
      "Epoch 42/70\n",
      "4/4 [==============================] - 0s 2ms/step - loss: 0.6929 - accuracy: 0.8250\n",
      "Epoch 43/70\n",
      "4/4 [==============================] - 0s 13ms/step - loss: 0.6791 - accuracy: 0.8500\n",
      "Epoch 44/70\n",
      "4/4 [==============================] - 0s 5ms/step - loss: 0.6654 - accuracy: 0.8417\n",
      "Epoch 45/70\n",
      "4/4 [==============================] - 0s 2ms/step - loss: 0.6511 - accuracy: 0.8417\n",
      "Epoch 46/70\n",
      "4/4 [==============================] - 0s 4ms/step - loss: 0.6379 - accuracy: 0.8500\n",
      "Epoch 47/70\n",
      "4/4 [==============================] - 0s 2ms/step - loss: 0.6256 - accuracy: 0.8583\n",
      "Epoch 48/70\n",
      "4/4 [==============================] - 0s 4ms/step - loss: 0.6130 - accuracy: 0.8583\n",
      "Epoch 49/70\n",
      "4/4 [==============================] - 0s 2ms/step - loss: 0.6003 - accuracy: 0.8667\n",
      "Epoch 50/70\n",
      "4/4 [==============================] - 0s 2ms/step - loss: 0.5891 - accuracy: 0.8667\n",
      "Epoch 51/70\n",
      "4/4 [==============================] - 0s 3ms/step - loss: 0.5771 - accuracy: 0.8750\n",
      "Epoch 52/70\n",
      "4/4 [==============================] - 0s 3ms/step - loss: 0.5664 - accuracy: 0.8500\n",
      "Epoch 53/70\n",
      "4/4 [==============================] - 0s 2ms/step - loss: 0.5560 - accuracy: 0.8583\n",
      "Epoch 54/70\n",
      "4/4 [==============================] - 0s 3ms/step - loss: 0.5472 - accuracy: 0.8500\n",
      "Epoch 55/70\n",
      "4/4 [==============================] - 0s 2ms/step - loss: 0.5360 - accuracy: 0.8583\n",
      "Epoch 56/70\n",
      "4/4 [==============================] - 0s 3ms/step - loss: 0.5261 - accuracy: 0.8750\n",
      "Epoch 57/70\n",
      "4/4 [==============================] - 0s 2ms/step - loss: 0.5177 - accuracy: 0.8750\n",
      "Epoch 58/70\n",
      "4/4 [==============================] - 0s 3ms/step - loss: 0.5089 - accuracy: 0.8917\n",
      "Epoch 59/70\n",
      "4/4 [==============================] - 0s 3ms/step - loss: 0.5000 - accuracy: 0.8917\n",
      "Epoch 60/70\n",
      "4/4 [==============================] - 0s 2ms/step - loss: 0.4930 - accuracy: 0.8833\n",
      "Epoch 61/70\n",
      "4/4 [==============================] - 0s 2ms/step - loss: 0.4843 - accuracy: 0.8833\n",
      "Epoch 62/70\n",
      "4/4 [==============================] - 0s 2ms/step - loss: 0.4765 - accuracy: 0.8833\n",
      "Epoch 63/70\n",
      "4/4 [==============================] - 0s 2ms/step - loss: 0.4700 - accuracy: 0.8833\n",
      "Epoch 64/70\n",
      "4/4 [==============================] - 0s 3ms/step - loss: 0.4623 - accuracy: 0.8917\n",
      "Epoch 65/70\n",
      "4/4 [==============================] - 0s 3ms/step - loss: 0.4553 - accuracy: 0.8917\n",
      "Epoch 66/70\n",
      "4/4 [==============================] - 0s 2ms/step - loss: 0.4495 - accuracy: 0.9000\n",
      "Epoch 67/70\n",
      "4/4 [==============================] - 0s 4ms/step - loss: 0.4431 - accuracy: 0.8917\n",
      "Epoch 68/70\n",
      "4/4 [==============================] - 0s 3ms/step - loss: 0.4382 - accuracy: 0.8833\n",
      "Epoch 69/70\n",
      "4/4 [==============================] - 0s 2ms/step - loss: 0.4311 - accuracy: 0.8917\n",
      "Epoch 70/70\n",
      "4/4 [==============================] - 0s 3ms/step - loss: 0.4254 - accuracy: 0.9083\n"
     ]
    },
    {
     "data": {
      "text/plain": [
       "<keras.callbacks.History at 0x7fe5e1207ac0>"
      ]
     },
     "execution_count": 5,
     "metadata": {},
     "output_type": "execute_result"
    }
   ],
   "source": [
    "# 70 Durchläufe\n",
    "model.fit(train_data, train_col, epochs=70)"
   ]
  },
  {
   "cell_type": "markdown",
   "id": "ea0a81e9-2436-43a7-ab5d-8f1c5dd92677",
   "metadata": {},
   "source": [
    "Testen"
   ]
  },
  {
   "cell_type": "code",
   "execution_count": 6,
   "id": "8688ed41-9918-4357-b390-f7fb248d7de4",
   "metadata": {},
   "outputs": [
    {
     "name": "stdout",
     "output_type": "stream",
     "text": [
      "1/1 [==============================] - 0s 134ms/step - loss: 0.3985 - accuracy: 0.9667\n",
      "Test accuracy: 0.9666666388511658\n"
     ]
    }
   ],
   "source": [
    "test_loss, test_acc = model.evaluate(test_data, test_col)\n",
    "print('Test accuracy:', test_acc)"
   ]
  },
  {
   "cell_type": "code",
   "execution_count": 7,
   "id": "8ca0c5a4-811d-4285-a90e-35248c9b3c4e",
   "metadata": {},
   "outputs": [
    {
     "data": {
      "text/plain": [
       "['le1.joblib']"
      ]
     },
     "execution_count": 7,
     "metadata": {},
     "output_type": "execute_result"
    }
   ],
   "source": [
    "# KNN, Scaler und LabelEncoder speichern\n",
    "model.save('model1.h5')\n",
    "joblib.dump(s_scaler,'scaler1.joblib')\n",
    "joblib.dump(le,'le1.joblib')"
   ]
  }
 ],
 "metadata": {
  "kernelspec": {
   "display_name": "Python 3 (ipykernel)",
   "language": "python",
   "name": "python3"
  },
  "language_info": {
   "codemirror_mode": {
    "name": "ipython",
    "version": 3
   },
   "file_extension": ".py",
   "mimetype": "text/x-python",
   "name": "python",
   "nbconvert_exporter": "python",
   "pygments_lexer": "ipython3",
   "version": "3.10.9"
  }
 },
 "nbformat": 4,
 "nbformat_minor": 5
}
