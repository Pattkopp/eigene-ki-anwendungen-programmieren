{
 "cells": [
  {
   "cell_type": "markdown",
   "id": "5f3206c2-42cc-4ca9-911f-3cc867897711",
   "metadata": {},
   "source": [
    "Listen"
   ]
  },
  {
   "cell_type": "code",
   "execution_count": 6,
   "id": "2fb59190-f18d-400b-ba70-71feb59b0a30",
   "metadata": {},
   "outputs": [
    {
     "name": "stdout",
     "output_type": "stream",
     "text": [
      "[0, 1, 2, 3]\n",
      "3\n",
      "hallo\n",
      "[[0, 1, 2, 3], ['hallo', 1, 2.3]]\n",
      "['hallo', 1, 2.3]\n",
      "hallo\n"
     ]
    }
   ],
   "source": [
    "liste_1 = [0,1,2,3]\n",
    "liste_2 = [\"hallo\", 1, 2.3]\n",
    "\n",
    "print(liste_1)\n",
    "print(len(liste_2))\n",
    "\n",
    "print(liste_2[0])\n",
    "\n",
    "liste_3 = [liste_1, liste_2]\n",
    "print(liste_3)\n",
    "\n",
    "print(liste_3[1])\n",
    "\n",
    "print(liste_3[1][0])"
   ]
  },
  {
   "cell_type": "markdown",
   "id": "799dd439-2f9f-426d-a16b-e528bfd783b5",
   "metadata": {},
   "source": [
    "Verzweigungen"
   ]
  },
  {
   "cell_type": "code",
   "execution_count": 23,
   "id": "a0fb0a0d-0408-49ef-9215-917eb72e1fa4",
   "metadata": {},
   "outputs": [
    {
     "name": "stdout",
     "output_type": "stream",
     "text": [
      "bestanden\n",
      "ende\n",
      "bestanden\n",
      "ende\n",
      "bestanden\n",
      "ende\n",
      "bestanden\n",
      "ende\n",
      "Element enthalten\n"
     ]
    }
   ],
   "source": [
    "note = 3\n",
    "\n",
    "if note < 5:\n",
    "    print(\"bestanden\")\n",
    "print(\"ende\")\n",
    "\n",
    "if note <= 4:\n",
    "    print(\"bestanden\")\n",
    "print(\"ende\")\n",
    "\n",
    "if note < 5:\n",
    "    print(\"bestanden\")\n",
    "else:\n",
    "    print(\"nicht bestanden\")\n",
    "print(\"ende\")\n",
    "\n",
    "if note < 5:\n",
    "    print(\"bestanden\")\n",
    "elif note == 5:\n",
    "    print(\"nicht bestanden, Note 5\")\n",
    "elif note == 6:\n",
    "    print(\"nicht bestanden, Note 6\")\n",
    "else:\n",
    "    print(\"ungültige Benotung\")\n",
    "print(\"ende\")\n",
    "\n",
    "if 2.3 in liste_2:\n",
    "    print(\"Element enthalten\")\n",
    "else:\n",
    "    print(\"Element nicht enthalten\")"
   ]
  },
  {
   "cell_type": "markdown",
   "id": "5198946a-71c7-4b3d-ba06-1fed2ff5d32f",
   "metadata": {},
   "source": [
    "Schleifen"
   ]
  },
  {
   "cell_type": "code",
   "execution_count": 13,
   "id": "aced0992-47e5-4828-81aa-b809e5688cc7",
   "metadata": {},
   "outputs": [
    {
     "name": "stdout",
     "output_type": "stream",
     "text": [
      "0\n",
      "1\n",
      "2\n",
      "3\n",
      "4\n",
      "0\n",
      "1\n",
      "2\n",
      "3\n",
      "4\n"
     ]
    }
   ],
   "source": [
    "i = 0\n",
    "\n",
    "while i < 5:\n",
    "    print(i)\n",
    "    i = i + 1\n",
    "    \n",
    "for i in range(5):\n",
    "    print(i)"
   ]
  },
  {
   "cell_type": "raw",
   "id": "40dd2d40-7864-4925-90c0-0ec29e82bb5e",
   "metadata": {},
   "source": [
    "Random"
   ]
  },
  {
   "cell_type": "code",
   "execution_count": 24,
   "id": "c69e856e-126d-4154-b3ff-3561a7b6f788",
   "metadata": {},
   "outputs": [
    {
     "name": "stdout",
     "output_type": "stream",
     "text": [
      "0\n",
      "1\n",
      "1\n",
      "1\n",
      "0\n",
      "1\n",
      "0\n",
      "2\n",
      "1\n",
      "1\n",
      "2\n",
      "2\n",
      "1\n",
      "1\n",
      "1\n",
      "1\n",
      "2\n",
      "1\n",
      "1\n",
      "1\n",
      "1\n",
      "3\n",
      "3\n",
      "3\n",
      "range(0, 4)\n"
     ]
    }
   ],
   "source": [
    "import random\n",
    "\n",
    "for i in range(6):\n",
    "    zahl = random.choice([0,1])\n",
    "    print(zahl)    \n",
    "\n",
    "for i in range(6):\n",
    "    element = random.choice(liste_1)\n",
    "    print(element)\n",
    "    \n",
    "for i in range(6):\n",
    "    zahl = random.choice(range(3))\n",
    "    print(zahl)\n",
    "    \n",
    "for i in range(6):\n",
    "    index = random.choice(range(len(liste_1)))\n",
    "    print(index)\n",
    "    \n",
    "print(range(len(liste_1)))"
   ]
  },
  {
   "cell_type": "markdown",
   "id": "5f514369-4c58-405f-8538-cef05e8aceab",
   "metadata": {},
   "source": [
    "Funktionen"
   ]
  },
  {
   "cell_type": "code",
   "execution_count": 22,
   "id": "e6597637-bac1-4e8f-a501-3b4e965c45ad",
   "metadata": {},
   "outputs": [
    {
     "name": "stdout",
     "output_type": "stream",
     "text": [
      "Hallo\n",
      "6\n"
     ]
    }
   ],
   "source": [
    "def sagHallo():\n",
    "    print(\"Hallo\")\n",
    "    \n",
    "sagHallo()\n",
    "\n",
    "def inkrement(zahl):\n",
    "    return zahl + 1\n",
    "\n",
    "z1 = inkrement(5)\n",
    "print(z1)"
   ]
  },
  {
   "cell_type": "code",
   "execution_count": null,
   "id": "7520f4fc-5c23-4b86-a6e1-88d4ab16ddda",
   "metadata": {},
   "outputs": [],
   "source": []
  }
 ],
 "metadata": {
  "kernelspec": {
   "display_name": "Python 3 (ipykernel)",
   "language": "python",
   "name": "python3"
  },
  "language_info": {
   "codemirror_mode": {
    "name": "ipython",
    "version": 3
   },
   "file_extension": ".py",
   "mimetype": "text/x-python",
   "name": "python",
   "nbconvert_exporter": "python",
   "pygments_lexer": "ipython3",
   "version": "3.10.9"
  }
 },
 "nbformat": 4,
 "nbformat_minor": 5
}
