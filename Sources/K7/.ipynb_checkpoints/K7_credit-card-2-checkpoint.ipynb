{
 "cells": [
  {
   "cell_type": "markdown",
   "id": "11e1deb9-f203-4938-a7e0-9e3cf708f955",
   "metadata": {},
   "source": [
    "Benötigte Module importieren und Datei laden. Die ersten Zeilen werden ausgegeben."
   ]
  },
  {
   "cell_type": "code",
   "execution_count": 2,
   "id": "6df77660-8df4-48bb-9c8a-3fce12e5c541",
   "metadata": {},
   "outputs": [
    {
     "name": "stdout",
     "output_type": "stream",
     "text": [
      "   Time        V1        V2        V3        V4        V5        V6        V7  \\\n",
      "0   0.0 -1.359807 -0.072781  2.536347  1.378155 -0.338321  0.462388  0.239599   \n",
      "1   0.0  1.191857  0.266151  0.166480  0.448154  0.060018 -0.082361 -0.078803   \n",
      "2   1.0 -1.358354 -1.340163  1.773209  0.379780 -0.503198  1.800499  0.791461   \n",
      "3   1.0 -0.966272 -0.185226  1.792993 -0.863291 -0.010309  1.247203  0.237609   \n",
      "4   2.0 -1.158233  0.877737  1.548718  0.403034 -0.407193  0.095921  0.592941   \n",
      "\n",
      "         V8        V9  ...       V21       V22       V23       V24       V25  \\\n",
      "0  0.098698  0.363787  ... -0.018307  0.277838 -0.110474  0.066928  0.128539   \n",
      "1  0.085102 -0.255425  ... -0.225775 -0.638672  0.101288 -0.339846  0.167170   \n",
      "2  0.247676 -1.514654  ...  0.247998  0.771679  0.909412 -0.689281 -0.327642   \n",
      "3  0.377436 -1.387024  ... -0.108300  0.005274 -0.190321 -1.175575  0.647376   \n",
      "4 -0.270533  0.817739  ... -0.009431  0.798278 -0.137458  0.141267 -0.206010   \n",
      "\n",
      "        V26       V27       V28  Amount  Class  \n",
      "0 -0.189115  0.133558 -0.021053  149.62      0  \n",
      "1  0.125895 -0.008983  0.014724    2.69      0  \n",
      "2 -0.139097 -0.055353 -0.059752  378.66      0  \n",
      "3 -0.221929  0.062723  0.061458  123.50      0  \n",
      "4  0.502292  0.219422  0.215153   69.99      0  \n",
      "\n",
      "[5 rows x 31 columns]\n"
     ]
    }
   ],
   "source": [
    "import pandas as pd\n",
    "from sklearn.model_selection import train_test_split\n",
    "from sklearn import metrics\n",
    "from sklearn.preprocessing import LabelEncoder\n",
    "from xgboost import XGBClassifier\n",
    "\n",
    "path = \"../Data/creditcard.csv\"\n",
    "data = pd.read_csv(path, delimiter=',')\n",
    "print(data.head())"
   ]
  },
  {
   "cell_type": "markdown",
   "id": "40958aa7-02b3-4962-bd8f-e0ccf4af1844",
   "metadata": {},
   "source": [
    "Time gibt die Sekunden zwischen der jeweiligen Transaktionen und der ersten an. Amount ist der Betrag, Class=1 bedeutet Betrug. V1 bis V8 sind verarbeitete Attribute ohne Beschreibung. Es sind 284807 Transaktionen gespeichert, davon 492 Betrugsfälle (0,173%)."
   ]
  },
  {
   "cell_type": "markdown",
   "id": "6572a434-7dfc-4fcf-9a1e-ce041a29277f",
   "metadata": {},
   "source": [
    "Daten vorbereiten."
   ]
  },
  {
   "cell_type": "code",
   "execution_count": 3,
   "id": "f59f7f64-b877-406b-9821-5b997360fcb6",
   "metadata": {},
   "outputs": [],
   "source": [
    "col = data['Class']\n",
    "\n",
    "data.drop(['Class'], axis = 1, inplace=True)"
   ]
  },
  {
   "cell_type": "markdown",
   "id": "d224bc75-6906-4849-bd17-45893e5a289a",
   "metadata": {},
   "source": [
    "Modell aufbauen, trainieren und testen"
   ]
  },
  {
   "cell_type": "code",
   "execution_count": 4,
   "id": "4bbff244-7ba0-439f-9c07-921afb0788ed",
   "metadata": {},
   "outputs": [
    {
     "name": "stdout",
     "output_type": "stream",
     "text": [
      "0.9996137776061234\n"
     ]
    }
   ],
   "source": [
    "# Aus den zwei Tabellen vier Tabellen erzeugen\n",
    "train_data, test_data, train_col, test_col = train_test_split(data,col, test_size=0.2, random_state=42)\n",
    "\n",
    "xgb = XGBClassifier()\n",
    "\n",
    "xgb.fit(train_data, train_col)\n",
    "predicted_col = xgb.predict(test_data)\n",
    "\n",
    "score = metrics.accuracy_score(test_col, predicted_col)\n",
    "print(score)"
   ]
  },
  {
   "cell_type": "code",
   "execution_count": 9,
   "id": "22ceda72-c5f3-42bb-8d44-b880da801c32",
   "metadata": {},
   "outputs": [
    {
     "data": {
      "text/plain": [
       "<sklearn.metrics._plot.confusion_matrix.ConfusionMatrixDisplay at 0x7fb2f06af8e0>"
      ]
     },
     "execution_count": 9,
     "metadata": {},
     "output_type": "execute_result"
    },
    {
     "data": {
      "image/png": "[encoded data removed]",
      "text/plain": [
       "<Figure size 640x480 with 2 Axes>"
      ]
     },
     "metadata": {},
     "output_type": "display_data"
    }
   ],
   "source": [
    "from sklearn.metrics import confusion_matrix, ConfusionMatrixDisplay\n",
    "\n",
    "cm = confusion_matrix(test_col, predicted_col)\n",
    "\n",
    "disp = ConfusionMatrixDisplay(cm)\n",
    "\n",
    "#print(test_col.shape)\n",
    "\n",
    "disp.plot()"
   ]
  },
  {
   "cell_type": "code",
   "execution_count": null,
   "id": "c8347757-5f8c-4c2e-8f32-f8188808ba23",
   "metadata": {},
   "outputs": [],
   "source": []
  }
 ],
 "metadata": {
  "kernelspec": {
   "display_name": "Python 3 (ipykernel)",
   "language": "python",
   "name": "python3"
  },
  "language_info": {
   "codemirror_mode": {
    "name": "ipython",
    "version": 3
   },
   "file_extension": ".py",
   "mimetype": "text/x-python",
   "name": "python",
   "nbconvert_exporter": "python",
   "pygments_lexer": "ipython3",
   "version": "3.10.9"
  }
 },
 "nbformat": 4,
 "nbformat_minor": 5
}
