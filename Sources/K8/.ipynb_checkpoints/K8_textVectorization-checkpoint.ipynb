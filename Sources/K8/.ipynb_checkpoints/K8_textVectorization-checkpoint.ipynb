{
 "cells": [
  {
   "cell_type": "code",
   "execution_count": null,
   "id": "1d61f12a-701f-4acd-9215-bb1977406378",
   "metadata": {},
   "outputs": [],
   "source": [
    "import pandas as pd\n",
    "import tensorflow as tf\n",
    "from keras.models import Model\n",
    "import numpy as np"
   ]
  },
  {
   "cell_type": "code",
   "execution_count": null,
   "id": "955d8541-bd9a-4a73-9bfd-f3a523797706",
   "metadata": {},
   "outputs": [],
   "source": [
    "# Bewertungstexte\n",
    "train_data =[\n",
    "          'Sie sind die beste Lehrkraft!',\n",
    "          'Ich werde meinen Ertgeborenen nach Ihnen benennen.',\n",
    "          'Ihr Unterricht ist langweilig',\n",
    "          'schrecklich',\n",
    "          'hervorragend!',\n",
    "          'Ich habe nur geschlafen.',\n",
    "          'Der beste Unterricht',\n",
    "          'Ich habe nichts gelernt.',\n",
    "          'lahm',\n",
    "          'Sie sollten mit dem Unterrichten aufhören.'\n",
    "]\n",
    "# 0 für schlecht, 1 für gut\n",
    "train_col = np.array([1,1,0,0,1,0,1,0,0,0])"
   ]
  },
  {
   "cell_type": "code",
   "execution_count": null,
   "id": "7b42d3bb-f965-4b5d-8853-0605d454d52d",
   "metadata": {},
   "outputs": [],
   "source": [
    "transform = tf.keras.layers.TextVectorization(max_tokens=50, output_sequence_length=10)\n",
    "\n",
    "transform.adapt(train_data)\n",
    "\n",
    "tain_data_transformed = transform(train_data)\n",
    "\n",
    "print(tain_data_transformed)"
   ]
  },
  {
   "cell_type": "code",
   "execution_count": null,
   "id": "d1f38f56-9535-449b-9f06-03f8d476caa4",
   "metadata": {},
   "outputs": [],
   "source": [
    "print(transform.get_vocabulary()[10])"
   ]
  },
  {
   "cell_type": "code",
   "execution_count": null,
   "id": "0f55affa-09d3-4bc3-9def-6b33aa860d77",
   "metadata": {},
   "outputs": [],
   "source": [
    "model = tf.keras.Sequential([\n",
    "  tf.keras.layers.Embedding(50, 16),\n",
    "  tf.keras.layers.GlobalAveragePooling1D(),\n",
    "  tf.keras.layers.Dense(2, activation=tf.nn.softmax)\n",
    "])"
   ]
  },
  {
   "cell_type": "code",
   "execution_count": null,
   "id": "207d0449-e38b-4cee-b433-dfd0dff6dbb4",
   "metadata": {},
   "outputs": [],
   "source": [
    "model.compile(optimizer='adam', loss='sparse_categorical_crossentropy', metrics=['accuracy'])\n",
    "\n",
    "model.fit(tain_data_transformed, train_col, epochs=200)"
   ]
  },
  {
   "cell_type": "code",
   "execution_count": null,
   "id": "bfc5811d-1b1c-4e45-b17f-335b20334aed",
   "metadata": {},
   "outputs": [],
   "source": [
    "reviews = [\n",
    "    \"schrecklich\",\n",
    "    \"der beste Unterricht\",\n",
    "    \"bitte aufhören\",\n",
    "    \"schlafe noch\"\n",
    "]\n",
    "txt = transform(reviews)\n",
    "pred = model.predict([txt])\n",
    "print(pred)"
   ]
  },
  {
   "cell_type": "code",
   "execution_count": null,
   "id": "1ed58bb1-d598-44ec-bdee-d75219b87034",
   "metadata": {},
   "outputs": [],
   "source": []
  }
 ],
 "metadata": {
  "kernelspec": {
   "display_name": "Python 3 (ipykernel)",
   "language": "python",
   "name": "python3"
  },
  "language_info": {
   "codemirror_mode": {
    "name": "ipython",
    "version": 3
   },
   "file_extension": ".py",
   "mimetype": "text/x-python",
   "name": "python",
   "nbconvert_exporter": "python",
   "pygments_lexer": "ipython3",
   "version": "3.10.9"
  }
 },
 "nbformat": 4,
 "nbformat_minor": 5
}
