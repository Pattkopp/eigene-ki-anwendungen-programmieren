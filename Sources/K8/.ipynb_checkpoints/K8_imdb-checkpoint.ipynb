{
 "cells": [
  {
   "cell_type": "markdown",
   "id": "11e1deb9-f203-4938-a7e0-9e3cf708f955",
   "metadata": {},
   "source": [
    "Benötigte Module importieren und Datei laden. Die ersten Zeilen werden ausgegeben."
   ]
  },
  {
   "cell_type": "code",
   "execution_count": 1,
   "id": "6df77660-8df4-48bb-9c8a-3fce12e5c541",
   "metadata": {},
   "outputs": [
    {
     "name": "stderr",
     "output_type": "stream",
     "text": [
      "2023-06-09 21:54:38.375904: I tensorflow/core/platform/cpu_feature_guard.cc:193] This TensorFlow binary is optimized with oneAPI Deep Neural Network Library (oneDNN) to use the following CPU instructions in performance-critical operations:  SSE4.1 SSE4.2 AVX AVX2 FMA\n",
      "To enable them in other operations, rebuild TensorFlow with the appropriate compiler flags.\n"
     ]
    },
    {
     "name": "stdout",
     "output_type": "stream",
     "text": [
      "                                              review sentiment\n",
      "0  One of the other reviewers has mentioned that ...  positive\n",
      "1  A wonderful little production. <br /><br />The...  positive\n",
      "2  I thought this was a wonderful way to spend ti...  positive\n",
      "3  Basically there's a family where a little boy ...  negative\n",
      "4  Petter Mattei's \"Love in the Time of Money\" is...  positive\n",
      "(50000, 2)\n"
     ]
    }
   ],
   "source": [
    "import tensorflow as tf\n",
    "import pandas as pd\n",
    "from sklearn.model_selection import train_test_split\n",
    "\n",
    "path = \"../Data/IMDB-Dataset.csv\"\n",
    "data = pd.read_csv(path, delimiter=',')\n",
    "\n",
    "MAX_FEATURES = 10000\n",
    "SEQUENCE_LENGTH = 250\n",
    "\n",
    "print(data.head())\n",
    "print(data.shape)"
   ]
  },
  {
   "cell_type": "code",
   "execution_count": 2,
   "id": "62db8b53-e61a-438c-88e2-37cdc2be1caf",
   "metadata": {},
   "outputs": [
    {
     "name": "stdout",
     "output_type": "stream",
     "text": [
      "                                                  review\n",
      "0      One of the other reviewers has mentioned that ...\n",
      "1      A wonderful little production.   The filming t...\n",
      "2      I thought this was a wonderful way to spend ti...\n",
      "3      Basically there's a family where a little boy ...\n",
      "4      Petter Mattei's \"Love in the Time of Money\" is...\n",
      "...                                                  ...\n",
      "49995  I thought this movie did a down right good job...\n",
      "49996  Bad plot, bad dialogue, bad acting, idiotic di...\n",
      "49997  I am a Catholic taught in parochial elementary...\n",
      "49998  I'm going to have to disagree with the previou...\n",
      "49999  No one expects the Star Trek movies to be high...\n",
      "\n",
      "[50000 rows x 1 columns]\n",
      "0        1\n",
      "1        1\n",
      "2        1\n",
      "3        0\n",
      "4        1\n",
      "        ..\n",
      "49995    1\n",
      "49996    0\n",
      "49997    0\n",
      "49998    0\n",
      "49999    0\n",
      "Name: rating, Length: 50000, dtype: int64\n"
     ]
    }
   ],
   "source": [
    "data['review'] = data['review'].str.replace(\"<br />\",\" \")\n",
    "\n",
    "# String in Integer Umwandeln\n",
    "# neue Spalte, alle Werte auf 0 setzen\n",
    "data['rating'] = 0\n",
    "\n",
    "# wenn der Inhalt der Spalte 'sentiment' gleich 'positive' ist, setze den Eintrag in der Spalte 'rate' auf 1\n",
    "data.loc[data['sentiment'] == 'positive', 'rating'] = 1\n",
    "\n",
    "col = data['rating']\n",
    "\n",
    "# entferne die Spalten 'sentiment' und 'rate'\n",
    "data.drop(['sentiment', 'rating'], axis = 1, inplace=True)\n",
    "\n",
    "print(data)\n",
    "print(col)"
   ]
  },
  {
   "cell_type": "code",
   "execution_count": 3,
   "id": "3371cff8-4ef9-4497-88bd-50f9538c6983",
   "metadata": {},
   "outputs": [],
   "source": [
    "# Aus den zwei Tabellen vier Tabellen erzeugen\n",
    "train_data, test_data, train_col, test_col = train_test_split(data,col, test_size=0.2)"
   ]
  },
  {
   "cell_type": "code",
   "execution_count": 4,
   "id": "70ba495c-ae71-425e-8489-738482358b12",
   "metadata": {},
   "outputs": [
    {
     "name": "stderr",
     "output_type": "stream",
     "text": [
      "2023-06-09 21:54:42.131165: I tensorflow/core/platform/cpu_feature_guard.cc:193] This TensorFlow binary is optimized with oneAPI Deep Neural Network Library (oneDNN) to use the following CPU instructions in performance-critical operations:  SSE4.1 SSE4.2 AVX AVX2 FMA\n",
      "To enable them in other operations, rebuild TensorFlow with the appropriate compiler flags.\n"
     ]
    },
    {
     "name": "stdout",
     "output_type": "stream",
     "text": [
      "tf.Tensor(\n",
      "[[1692   18  178 ...    0    0    0]\n",
      " [  88    5   31 ...   28  579    1]\n",
      " [  11   17    7 ...    0    0    0]\n",
      " ...\n",
      " [  47   45   74 ...    0    0    0]\n",
      " [1510 1890  138 ...    0    0    0]\n",
      " [  11    7    3 ...    1  659   13]], shape=(40000, 250), dtype=int64)\n"
     ]
    }
   ],
   "source": [
    "transform = tf.keras.layers.TextVectorization(max_tokens=MAX_FEATURES,output_sequence_length=SEQUENCE_LENGTH)\n",
    "\n",
    "transform.adapt(train_data)\n",
    "\n",
    "tain_data_transformed = transform(train_data)\n",
    "test_data_transformed = transform(test_data)\n",
    "\n",
    "print(tain_data_transformed)\n",
    "#print(transform.get_vocabulary()[30])"
   ]
  },
  {
   "cell_type": "code",
   "execution_count": 5,
   "id": "f59f7f64-b877-406b-9821-5b997360fcb6",
   "metadata": {},
   "outputs": [],
   "source": [
    "model = tf.keras.Sequential([\n",
    "  tf.keras.layers.Embedding(MAX_FEATURES, 16),\n",
    "  tf.keras.layers.GlobalAveragePooling1D(),\n",
    "  tf.keras.layers.Dropout(0.2),\n",
    "  tf.keras.layers.Dense(2, activation=tf.nn.softmax)\n",
    "])"
   ]
  },
  {
   "cell_type": "code",
   "execution_count": 6,
   "id": "0d41bd87-3aa9-4c3b-a3da-dfd4d4a4e566",
   "metadata": {},
   "outputs": [
    {
     "name": "stdout",
     "output_type": "stream",
     "text": [
      "Epoch 1/100\n",
      "1250/1250 [==============================] - 4s 3ms/step - loss: 0.5635 - accuracy: 0.7681 - val_loss: 0.4287 - val_accuracy: 0.8391\n",
      "Epoch 2/100\n",
      "1250/1250 [==============================] - 4s 3ms/step - loss: 0.3579 - accuracy: 0.8671 - val_loss: 0.3403 - val_accuracy: 0.8654\n",
      "Epoch 3/100\n",
      "1250/1250 [==============================] - 4s 3ms/step - loss: 0.2915 - accuracy: 0.8888 - val_loss: 0.3045 - val_accuracy: 0.8822\n",
      "Epoch 4/100\n",
      "1250/1250 [==============================] - 4s 3ms/step - loss: 0.2568 - accuracy: 0.9024 - val_loss: 0.2909 - val_accuracy: 0.8854\n",
      "Epoch 5/100\n",
      "1250/1250 [==============================] - 4s 3ms/step - loss: 0.2345 - accuracy: 0.9110 - val_loss: 0.2863 - val_accuracy: 0.8863\n",
      "Epoch 6/100\n",
      "1250/1250 [==============================] - 4s 3ms/step - loss: 0.2175 - accuracy: 0.9180 - val_loss: 0.2850 - val_accuracy: 0.8892\n",
      "Epoch 7/100\n",
      "1250/1250 [==============================] - 4s 4ms/step - loss: 0.2053 - accuracy: 0.9227 - val_loss: 0.2882 - val_accuracy: 0.8880\n",
      "Epoch 8/100\n",
      "1250/1250 [==============================] - 5s 4ms/step - loss: 0.1937 - accuracy: 0.9269 - val_loss: 0.2929 - val_accuracy: 0.8875\n",
      "Epoch 9/100\n",
      "1250/1250 [==============================] - 6s 5ms/step - loss: 0.1851 - accuracy: 0.9315 - val_loss: 0.2947 - val_accuracy: 0.8870\n"
     ]
    },
    {
     "data": {
      "text/plain": [
       "<keras.callbacks.History at 0x7ff5c19d5330>"
      ]
     },
     "execution_count": 6,
     "metadata": {},
     "output_type": "execute_result"
    }
   ],
   "source": [
    "model.compile(optimizer='adam', loss='sparse_categorical_crossentropy', metrics=['accuracy'])\n",
    "\n",
    "cb_early = tf.keras.callbacks.EarlyStopping(monitor='val_loss', patience=3)\n",
    "\n",
    "model.fit(tain_data_transformed, train_col, validation_data=(test_data_transformed, test_col), epochs=100, callbacks=[cb_early])"
   ]
  },
  {
   "cell_type": "code",
   "execution_count": 7,
   "id": "965ec6ce-f2e0-4e54-b01a-17d3be7a6867",
   "metadata": {},
   "outputs": [
    {
     "name": "stdout",
     "output_type": "stream",
     "text": [
      "1/1 [==============================] - 0s 64ms/step\n",
      "[[0.37194005 0.6280599 ]\n",
      " [0.7476256  0.25237444]\n",
      " [0.85308725 0.14691281]]\n"
     ]
    }
   ],
   "source": [
    "examples = [\n",
    "    \"The movie was great\",\n",
    "    \"It was boring\",\n",
    "    \"Don't waste your time\",\n",
    "]\n",
    "\n",
    "txt = transform(examples)\n",
    "pred = model.predict([txt])\n",
    "print(pred)"
   ]
  }
 ],
 "metadata": {
  "kernelspec": {
   "display_name": "Python 3 (ipykernel)",
   "language": "python",
   "name": "python3"
  },
  "language_info": {
   "codemirror_mode": {
    "name": "ipython",
    "version": 3
   },
   "file_extension": ".py",
   "mimetype": "text/x-python",
   "name": "python",
   "nbconvert_exporter": "python",
   "pygments_lexer": "ipython3",
   "version": "3.10.9"
  }
 },
 "nbformat": 4,
 "nbformat_minor": 5
}
