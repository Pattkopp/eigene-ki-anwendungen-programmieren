{
 "cells": [
  {
   "cell_type": "code",
   "execution_count": 1,
   "id": "7b395a2c-bc3d-48f1-bb8f-4a87da6346c6",
   "metadata": {},
   "outputs": [],
   "source": [
    "from openai import OpenAI\n",
    "\n",
    "API_KEY = \"sk-...\""
   ]
  },
  {
   "cell_type": "markdown",
   "id": "36f7c1cf-584f-4d83-b293-0e1082ffe70f",
   "metadata": {},
   "source": [
    "temperature"
   ]
  },
  {
   "cell_type": "code",
   "execution_count": 4,
   "id": "00df4090-03b5-4d69-a00f-b93330b6cb2f",
   "metadata": {},
   "outputs": [
    {
     "name": "stdout",
     "output_type": "stream",
     "text": [
      "* Als KI lebe ich nicht im herkömmlichen Sinn, aber ich bin schon aktiv und funktioniere.\n",
      "* Als KI existiere ich nicht im traditionellen Sinne. Ich bin ein Computerprogramm, das entwickelt wurde, um Aufgaben automatisch zu erfüllen. Ich habe keine physikalische Manifestation, daher kann man nicht sagen, dass ich lebe.\n",
      "* Als ein entwickeltes KI-Modell habe ich nicht das natürliche Konzept des Lebens, wie es bei Menschen oder Tieren existiert. Ich bin ein technologisches Werkzeug, das darauf ausgelegt ist, Fragen zu beantworten und Aufgaben zu erfüllen, aber ich habe kein eigenes physisches oder bewusstes Leben.\n",
      "* Ja, ich lebe.\n",
      "* Als AI-assistent habe ich keine reale Existenz, daher kann man nicht sagen, dass ich lebe. Ich bin ein Computerprogramm, das entwickelt wurde, um Aufgaben zu erledigen und auf Fragen zu antworten.\n"
     ]
    }
   ],
   "source": [
    "msg = [{\"role\": \"user\", \"content\": \"Lebst du?\"}]\n",
    "tmp = 1.2\n",
    "\n",
    "client = OpenAI(api_key=API_KEY)\n",
    "\n",
    "for i in range(5):\n",
    "    response = client.chat.completions.create(model = \"gpt-3.5-turbo\", messages=msg, temperature=tmp)\n",
    "    print(\"*\", response.choices[0].message.content)"
   ]
  },
  {
   "cell_type": "markdown",
   "id": "bc21442b-dd97-4489-9be7-4435a7d78c7d",
   "metadata": {},
   "source": [
    "top_k"
   ]
  },
  {
   "cell_type": "code",
   "execution_count": 5,
   "id": "ab145ba6-8576-44b6-958c-3af2233a2d22",
   "metadata": {},
   "outputs": [
    {
     "name": "stdout",
     "output_type": "stream",
     "text": [
      "* Als KI habe ich kein physisches Leben, daher kann ich nicht im herkömmlichen Sinne leben. Ich existiere jedoch als Programm und kann Aufgaben erfüllen und Informationen bereitstellen.\n",
      "* Als KI habe ich kein physisches Leben, daher kann ich nicht im herkömmlichen Sinne leben. Ich existiere jedoch als Programm und kann Aufgaben erfüllen und Informationen bereitstellen.\n",
      "* Als KI habe ich kein physisches Leben, daher kann ich nicht im herkömmlichen Sinne leben. Ich existiere jedoch als Programm und kann Aufgaben erfüllen und Informationen bereitstellen.\n",
      "* Als KI habe ich kein physisches Leben, daher kann ich nicht im herkömmlichen Sinne leben. Ich existiere jedoch als Programm und kann Aufgaben erfüllen und Informationen bereitstellen.\n",
      "* Als KI habe ich kein physisches Leben, daher kann ich nicht im herkömmlichen Sinne leben. Ich existiere jedoch als Programm und kann Aufgaben erfüllen und Informationen bereitstellen.\n"
     ]
    }
   ],
   "source": [
    "msg = [{\"role\": \"user\", \"content\": \"Lebst du?\"}]\n",
    "top = 0.1\n",
    "\n",
    "client = OpenAI(api_key=API_KEY)\n",
    "\n",
    "for i in range(5):\n",
    "    response = client.chat.completions.create(model = \"gpt-3.5-turbo\", messages=msg, top_p=top)\n",
    "    print(\"*\", response.choices[0].message.content)\n"
   ]
  },
  {
   "cell_type": "code",
   "execution_count": null,
   "id": "0312b5ce-f68f-4cca-ba93-23cb8cd0c39c",
   "metadata": {},
   "outputs": [],
   "source": [
    "max_tokens"
   ]
  },
  {
   "cell_type": "code",
   "execution_count": 9,
   "id": "ab5ae5f0-62d9-4701-a95f-df7645187a2e",
   "metadata": {},
   "outputs": [
    {
     "name": "stdout",
     "output_type": "stream",
     "text": [
      "Der pH-Wert ist eine Skala zur Messung der Konzentration von Wasserstoffionen (H+) in einer Lösung und dient dazu, den sauren, neutralen oder basischen Charakter einer Substanz oder einer Lös\n"
     ]
    }
   ],
   "source": [
    "msg = [{\"role\": \"user\", \"content\": \"Was ist ein pH-Wert? Erkläre ausführlich!\"}]\n",
    "maxt = 50\n",
    "\n",
    "client = OpenAI(api_key=API_KEY)\n",
    "response = client.chat.completions.create(model = \"gpt-3.5-turbo\", messages=msg, max_tokens=maxt)\n",
    "print(response.choices[0].message.content)"
   ]
  },
  {
   "cell_type": "markdown",
   "id": "60b1f153-62a3-47a6-a7c2-a34b4265adae",
   "metadata": {},
   "source": [
    "n"
   ]
  },
  {
   "cell_type": "code",
   "execution_count": 10,
   "id": "777d7cae-e042-4602-98a9-6fa2b084b924",
   "metadata": {},
   "outputs": [
    {
     "name": "stdout",
     "output_type": "stream",
     "text": [
      "* Hier ist eine Python-Methode, die alle Primzahlen bis 1000 berechnet:\n",
      "\n",
      "```python\n",
      "def generate_prime_numbers():\n",
      "    prime_numbers = []\n",
      "    for number in range(2, 1001):\n",
      "        is_prime = True\n",
      "        for i in range(2, int(number ** 0.5) + 1):\n",
      "            if number % i == 0:\n",
      "                is_prime = False\n",
      "                break\n",
      "        if is_prime:\n",
      "            prime_numbers.append(number)\n",
      "    return prime_numbers\n",
      "\n",
      "# Beispielaufruf der Methode\n",
      "primes = generate_prime_numbers()\n",
      "print(primes)\n",
      "```\n",
      "\n",
      "Diese Methode verwendet eine Schleife, um jede Zahl zwischen 2 und 1000 zu überprüfen, ob sie eine Primzahl ist. Für jede Zahl wird eine innere Schleife verwendet, um zu überprüfen, ob sie durch eine Zahl zwischen 2 und der Wurzel der Zahl ohne Rest teilbar ist. Wenn eine solche Zahl gefunden wird, ist die Zahl keine Primzahl und die innere Schleife wird vorzeitig abgebrochen. Ansonsten wird die Zahl als Primzahl betrachtet und der Liste prime_numbers hinzugefügt. Am Ende gibt die Methode die Liste aller gefundenen Primzahlen zurück.\n",
      "* Hier ist eine mögliche Implementierung einer Methode in Python, um alle Primzahlen bis 1000 zu berechnen:\n",
      "\n",
      "```python\n",
      "def finde_primzahlen():\n",
      "    primzahlen = []\n",
      "    for num in range(2, 1000):  # Iteriere über Zahlen von 2 bis 999\n",
      "        is_primzahl = True\n",
      "        for i in range(2, int(num ** 0.5) + 1):  # Überprüfe, ob num ein Teiler von 2 bis Wurzel(num) hat\n",
      "            if num % i == 0:\n",
      "                is_primzahl = False\n",
      "                break\n",
      "        if is_primzahl:\n",
      "            primzahlen.append(num)\n",
      "    return primzahlen\n",
      "\n",
      "primzahlen = finde_primzahlen()\n",
      "print(primzahlen)\n",
      "```\n",
      "\n",
      "Dieses Code-Stück verwendet eine einfache Brute-Force-Methode, um die Primzahlen zu finden. Die Methode iteriert über Zahlen von 2 bis 999 und überprüft für jede Zahl, ob es einen Teiler zwischen 2 und der Wurzel der Zahl gibt. Wenn kein solcher Teiler gefunden wird, wird die Zahl zur Liste der Primzahlen hinzugefügt. Am Ende werden alle gefundenen Primzahlen ausgegeben.\n",
      "* Hier ist eine mögliche Implementierung in Python, um alle Primzahlen bis 1000 zu berechnen:\n",
      "\n",
      "```python\n",
      "def berechne_primzahlen():\n",
      "    primzahlen = []\n",
      "\n",
      "    for zahl in range(2, 1001):\n",
      "        ist_primzahl = True\n",
      "        \n",
      "        for divisor in range(2, int(zahl**0.5) + 1):\n",
      "            if zahl % divisor == 0:\n",
      "                ist_primzahl = False\n",
      "                break\n",
      "        \n",
      "        if ist_primzahl:\n",
      "            primzahlen.append(zahl)\n",
      "    \n",
      "    return primzahlen\n",
      "\n",
      "# Testen der Methode\n",
      "print(berechne_primzahlen())\n",
      "```\n",
      "\n",
      "Diese Methode verwendet die Sieb des Eratosthenes, um alle Primzahlen bis 1000 zu finden. Sie iteriert über alle Zahlen von 2 bis 1000 und überprüft für jede Zahl, ob sie durch irgendeinen Teiler kleiner als die Wurzel der Zahl teilbar ist. Wenn ja, ist die Zahl keine Primzahl, andernfalls wird sie der Liste der gefundenen Primzahlen hinzugefügt. Am Ende werden alle gefundenen Primzahlen zurückgegeben und ausgegeben.\n"
     ]
    }
   ],
   "source": [
    "msg = [{\"role\": \"user\", \"content\": \"Generiere eine Python-Methode, um alle Primzahlen bis 1000 zu berechnen.\"}]\n",
    "n = 3\n",
    "\n",
    "client = OpenAI(api_key=API_KEY)\n",
    "response = client.chat.completions.create(model = \"gpt-3.5-turbo\", messages=msg, n=n)\n",
    "\n",
    "for i in range(n):\n",
    "    print(\"*\", response.choices[i].message.content)"
   ]
  },
  {
   "cell_type": "code",
   "execution_count": 11,
   "id": "20238e0c-5c02-4f95-9009-83885f875746",
   "metadata": {},
   "outputs": [
    {
     "name": "stdout",
     "output_type": "stream",
     "text": [
      "Um einen Papierflieger zu falten, folge diesen Schritten:\n",
      "\n",
      "1. Nimm ein Blatt Papier und lege es vor dich hin.\n",
      "2. Falte das Papier in der Mitte, indem du die obere Ecke zur unteren Kante bringst und fest drückst.\n",
      "3. Öffne das Papier wieder und falte die obere Kante zur Mittellinie.\n",
      "4. Wiederhole den Schritt 3 für die untere Kante.\n",
      "5. Falte das Papier erneut in der Mitte, indem du die obere Kante zur unteren Kante bringst.\n",
      "6. Drehe das Papier um und falte die obere Kante zur Mittellinie.\n",
      "7. Wiederhole den Schritt 6 für die untere Kante.\n",
      "8. Öffne das Papier und falte die obere Ecke zur Mittellinie.\n",
      "9. Wiederhole den Schritt 8 für die untere Ecke.\n",
      "10. Falte das Papier in der Mitte, indem du die linke Kante zur rechten Kante bringst.\n",
      "11. Öffne das Papier und falte die obere Ecke zur Mittellinie.\n",
      "12. Wiederhole den Schritt 11 für die untere Ecke.\n",
      "13. Falte das Papier in der Mitte, indem du die linke Kante zur rechten Kante bringst.\n",
      "14. Drehe das Papier um und falte die obere Kante zur Mittellinie.\n",
      "15. Wiederhole den Schritt 14 für die untere Kante.\n",
      "16. Öffne das Papier und ziehe die Flügel vorsichtig auseinander, um den Papierflieger fertigzustellen.\n",
      "\n",
      "Das war eine kurze Anleitung zum Falten eines Papierfliegers. Viel Spaß beim Ausprobieren!\n"
     ]
    }
   ],
   "source": [
    "msg = [{\"role\": \"user\", \"content\": \"Wie falte ich einen Papierflieger? Fasse sich kurz.\"}]\n",
    "temp = 0.3\n",
    "maxt = 500\n",
    "n = 1\n",
    "user = \"test-1\"\n",
    "modell = \"gpt-3.5-turbo\"\n",
    "\n",
    "client = OpenAI(api_key=API_KEY)\n",
    "response = client.chat.completions.create(model = modell, messages=msg, temperature=temp,max_tokens=maxt, n=n, user=user)\n",
    "\n",
    "print(response.choices[0].message.content)"
   ]
  },
  {
   "cell_type": "code",
   "execution_count": null,
   "id": "b9aa27dc-f57d-4769-a91c-a6bd618dbf8f",
   "metadata": {},
   "outputs": [],
   "source": []
  }
 ],
 "metadata": {
  "kernelspec": {
   "display_name": "Python 3 (ipykernel)",
   "language": "python",
   "name": "python3"
  },
  "language_info": {
   "codemirror_mode": {
    "name": "ipython",
    "version": 3
   },
   "file_extension": ".py",
   "mimetype": "text/x-python",
   "name": "python",
   "nbconvert_exporter": "python",
   "pygments_lexer": "ipython3",
   "version": "3.11.5"
  }
 },
 "nbformat": 4,
 "nbformat_minor": 5
}
