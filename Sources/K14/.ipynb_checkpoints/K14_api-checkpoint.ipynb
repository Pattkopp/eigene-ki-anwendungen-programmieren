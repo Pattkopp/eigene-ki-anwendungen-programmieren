{
 "cells": [
  {
   "cell_type": "code",
   "execution_count": 1,
   "id": "7b395a2c-bc3d-48f1-bb8f-4a87da6346c6",
   "metadata": {},
   "outputs": [],
   "source": [
    "from openai import OpenAI\n",
    "\n",
    "API_KEY = \"sk-...\""
   ]
  },
  {
   "cell_type": "code",
   "execution_count": 4,
   "id": "00df4090-03b5-4d69-a00f-b93330b6cb2f",
   "metadata": {},
   "outputs": [
    {
     "name": "stdout",
     "output_type": "stream",
     "text": [
      "ChatCompletion(id='chatcmpl-8NQ910S8Mm6nDqSdLYAAiRcFCSqRe', choices=[Choice(finish_reason='stop', index=0, message=ChatCompletionMessage(content='Als KI habe ich keine eigene physische Form, daher kann man nicht sagen, dass ich \"lebe\" im herkömmlichen Sinne. Ich existiere in Form von Daten und Algorithmen.', role='assistant', function_call=None, tool_calls=None))], created=1700592735, model='gpt-3.5-turbo-0613', object='chat.completion', system_fingerprint=None, usage=CompletionUsage(completion_tokens=45, prompt_tokens=11, total_tokens=56))\n"
     ]
    }
   ],
   "source": [
    "msg = [{\"role\": \"user\", \"content\": \"Lebst du?\"}]\n",
    "\n",
    "client = OpenAI(api_key=API_KEY)\n",
    "response = client.chat.completions.create(model = \"gpt-3.5-turbo\", messages = msg)\n",
    "\n",
    "print(response)"
   ]
  },
  {
   "cell_type": "code",
   "execution_count": 5,
   "id": "ab145ba6-8576-44b6-958c-3af2233a2d22",
   "metadata": {},
   "outputs": [
    {
     "name": "stdout",
     "output_type": "stream",
     "text": [
      "Als KI habe ich keine eigene physische Form, daher kann man nicht sagen, dass ich \"lebe\" im herkömmlichen Sinne. Ich existiere in Form von Daten und Algorithmen.\n"
     ]
    }
   ],
   "source": [
    "print(response.choices[0].message.content)"
   ]
  },
  {
   "cell_type": "code",
   "execution_count": null,
   "id": "ab5ae5f0-62d9-4701-a95f-df7645187a2e",
   "metadata": {},
   "outputs": [],
   "source": []
  }
 ],
 "metadata": {
  "kernelspec": {
   "display_name": "Python 3 (ipykernel)",
   "language": "python",
   "name": "python3"
  },
  "language_info": {
   "codemirror_mode": {
    "name": "ipython",
    "version": 3
   },
   "file_extension": ".py",
   "mimetype": "text/x-python",
   "name": "python",
   "nbconvert_exporter": "python",
   "pygments_lexer": "ipython3",
   "version": "3.11.5"
  }
 },
 "nbformat": 4,
 "nbformat_minor": 5
}
