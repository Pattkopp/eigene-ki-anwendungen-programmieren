{
 "cells": [
  {
   "cell_type": "code",
   "execution_count": 1,
   "id": "7b395a2c-bc3d-48f1-bb8f-4a87da6346c6",
   "metadata": {},
   "outputs": [],
   "source": [
    "from openai import OpenAI\n",
    "\n",
    "API_KEY = \"sk-8...\""
   ]
  },
  {
   "cell_type": "code",
   "execution_count": 2,
   "id": "a5c290b8-0c5e-4e16-b312-b4003cd62ac6",
   "metadata": {},
   "outputs": [],
   "source": [
    "audio_file= open(\"../Data/audio.mp3\", \"rb\")\n",
    "\n",
    "client = OpenAI(api_key=API_KEY)\n",
    "\n",
    "transcript = client.audio.transcriptions.create(model=\"whisper-1\",file=audio_file)"
   ]
  },
  {
   "cell_type": "code",
   "execution_count": 3,
   "id": "3580c178-1d9b-4201-8b67-4d30c3607602",
   "metadata": {},
   "outputs": [
    {
     "name": "stdout",
     "output_type": "stream",
     "text": [
      "Transcription(text='Eins stritten sich Nordwind und Sonne, wer von ihnen beiden wohl der Stärkere wäre, als ein Wanderer, der in einen warmen Mantel gehüllt war, des Weges daherkam. Sie wurden einig, dass derjenige für den Stärkeren gelten sollte, der den Wanderer zwingen würde, seinen Mantel abzunehmen. Der Nordwind blies mit aller Macht, aber je mehr er blies, desto fester hüllte sich der Wanderer in seinen Mantel ein. Endlich gab der Nordwind den Kampf auf. Nun erwärmte die Sonne die Luft mit ihren freundlichen Strahlen und schon nach wenigen Augenblicken zog der Wanderer seinen Mantel aus. Dann musste der Nordwind zugeben, dass die Sonne von ihnen beiden der Stärkere war.')\n"
     ]
    }
   ],
   "source": [
    "print(transcript)"
   ]
  },
  {
   "cell_type": "code",
   "execution_count": 11,
   "id": "5a295d5c-8f7b-44ba-9fe7-d6be52813528",
   "metadata": {},
   "outputs": [
    {
     "name": "stdout",
     "output_type": "stream",
     "text": [
      "Eins stritten sich Nordwind und Sonne, wer von ihnen beiden wohl der Stärkere wäre, als ein Wanderer, der in einen warmen Mantel gehüllt war, des Weges daherkam. Sie wurden einig, dass derjenige für den Stärkeren gelten sollte, der den Wanderer zwingen würde, seinen Mantel abzunehmen. Der Nordwind blies mit aller Macht, aber je mehr er blies, desto fester hüllte sich der Wanderer in seinen Mantel ein. Endlich gab der Nordwind den Kampf auf. Nun erwärmte die Sonne die Luft mit ihren freundlichen Strahlen und schon nach wenigen Augenblicken zog der Wanderer seinen Mantel aus. Dann musste der Nordwind zugeben, dass die Sonne von ihnen beiden der Stärkere war.\n"
     ]
    }
   ],
   "source": [
    "print(transcript.text)"
   ]
  },
  {
   "cell_type": "code",
   "execution_count": 8,
   "id": "25703717-a4ab-4bd0-a3ab-cbb205e98782",
   "metadata": {},
   "outputs": [
    {
     "name": "stdout",
     "output_type": "stream",
     "text": [
      "Einmal zankten sich Sonne und Mond, wer von ihnen beiden wohl der Einflussreichere wäre, als ein junger Bauer, der gerade seine Felder bestellte, ihren Blicken standhielt. Sie einigten sich darauf, dass derjenige für den Einflussreicheren gelten sollte, der den Bauern dazu bewegen würde, seine Arbeit niederzulegen.\n",
      "\n",
      "Zuerst versprach der Mond, den Bauern mit seiner sanften Dunkelheit und dem Versprechen der Ruhe zum Schlafen zu verführen. Doch trotz des milden Mondscheins und der beruhigenden Dunkelheit arbeitete der Bauer unvermindert weiter, entschlossen, sein Tagwerk zu vollenden. Als er dennoch nicht ruhte, gab der Mond verbittert auf.\n",
      "\n",
      "Nun war die Sonne an der Reihe. Sie sandte ihre wärmenden Strahlen auf die Erde hinunter und ließ den Himmel in einem sanften Goldton leuchten. Sie hüllte den Bauern mit solcher Wärme und Helligkeit, dass er seine Arbeit unterbrach, um die angenehme Sonnenstrahlen zu genießen. Er legte sich ins hohe Gras und bewunderte den fernen Himmel, der von der Sonne in warmes Licht getaucht war. Glücklich und entspannt schlief er ein.\n",
      "\n",
      "Da musste der Mond zugeben, dass die Sonne gelacht hatte, dass sie von ihnen beiden der Einflussreichere war. Von diesem Tag an respektierten Sonne und Mond jeweils die Stärken des anderen und streiteten sich nicht mehr. Stattdessen verhielten sie sich in Harmonie und brachten jeden Tag Licht - entweder in Form von Tag- oder Nachtlicht - in das Leben des Bauern.\n"
     ]
    }
   ],
   "source": [
    "temp = 1\n",
    "maxt = 1000\n",
    "n = 1\n",
    "user = \"test-1\"\n",
    "modell = \"gpt-4\"\n",
    "    \n",
    "role_content = \"Erzähle eine Kurzgeschichte über Sonne und Mond im ähnlichen Stil wie die folgende Geschichte: {}\".format(transcript.text)\n",
    "\n",
    "msg = [{\"role\": \"user\", \"content\": role_content}]\n",
    "\n",
    "client = OpenAI(api_key=API_KEY)\n",
    "response = client.chat.completions.create(model = modell, messages=msg, temperature=temp, max_tokens=maxt, n=n, user=user)\n",
    "\n",
    "print(response.choices[0].message.content)"
   ]
  },
  {
   "cell_type": "code",
   "execution_count": 12,
   "id": "ce2385ee-bc4c-4c84-97b8-7f87136a8102",
   "metadata": {},
   "outputs": [
    {
     "name": "stdout",
     "output_type": "stream",
     "text": [
      "Once the North Wind and the Sun were arguing about who was the stronger of the two, when a traveler, wrapped in a warm coat, came along the road. They agreed that whoever could force the traveler to take off his coat would be considered the stronger one. The North Wind blew with all its might, but the more it blew, the tighter the traveler wrapped himself in his coat. Finally, the North Wind gave up the fight. Now, the Sun warmed the air with its gentle rays, and within a few moments, the traveler removed his coat. Then the North Wind had to admit that the Sun was indeed the stronger of the two.\n"
     ]
    }
   ],
   "source": [
    "temp = 1\n",
    "maxt = 1000\n",
    "n = 1\n",
    "user = \"test-1\"\n",
    "modell = \"gpt-3.5-turbo\"\n",
    "    \n",
    "role_content = \"Übersetze ins Englische: {}\".format(transcript.text)\n",
    "\n",
    "msg = [{\"role\": \"user\", \"content\": role_content}]\n",
    "\n",
    "client = OpenAI(api_key=API_KEY)\n",
    "response = client.chat.completions.create(model = modell, messages=msg, temperature=temp, max_tokens=maxt, n=n, user=user)\n",
    "\n",
    "print(response.choices[0].message.content)"
   ]
  },
  {
   "cell_type": "code",
   "execution_count": 14,
   "id": "6f74edc5-5e12-4a65-8d5f-9d17f8714948",
   "metadata": {},
   "outputs": [
    {
     "name": "stdout",
     "output_type": "stream",
     "text": [
      "Einst stritten sich Nordwind und Sonne, wer von ihnen beiden wohl der Stärkere wäre, als ein Wanderer, der in einen warmen Mantel gehüllt war, des Weges daherkam. Sie wurden einig, dass derjenige für den Stärkeren gelten sollte, der den Wanderer zwingen würde, seinen Mantel abzunehmen. Der Nordwind blies mit aller Macht, aber je mehr er blies, desto fester hüllte sich der Wanderer in seinen Mantel ein. Endlich gab der Nordwind den Kampf auf, nun erwärmte die Sonne die Luft mit ihren freundlichen Strahlen und schon nach wenigen Augenblicken zog der Wanderer seinen Mantel aus. Dann musste der Nordwind zugeben, dass die Sonne von ihnen der Stärkere war.\n"
     ]
    }
   ],
   "source": [
    "file = \"../Data/audio.mp3\"\n",
    "modell = \"whisper-1\"\n",
    "temp = 0.8 # 0 bis 1\n",
    "prompt = \"Translate in Shakesparean style\"\n",
    "\n",
    "audio_file= open(file, \"rb\")\n",
    "\n",
    "client = OpenAI(api_key=API_KEY)\n",
    "transcript = client.audio.transcriptions.create(model=modell, file=audio_file, temperature=temp, prompt=prompt)\n",
    "print(transcript.text)"
   ]
  },
  {
   "cell_type": "code",
   "execution_count": null,
   "id": "e83ea6cf-6c6f-496b-a949-8fcc9d609d2d",
   "metadata": {},
   "outputs": [],
   "source": []
  }
 ],
 "metadata": {
  "kernelspec": {
   "display_name": "Python 3 (ipykernel)",
   "language": "python",
   "name": "python3"
  },
  "language_info": {
   "codemirror_mode": {
    "name": "ipython",
    "version": 3
   },
   "file_extension": ".py",
   "mimetype": "text/x-python",
   "name": "python",
   "nbconvert_exporter": "python",
   "pygments_lexer": "ipython3",
   "version": "3.11.5"
  }
 },
 "nbformat": 4,
 "nbformat_minor": 5
}
