{
 "cells": [
  {
   "cell_type": "code",
   "execution_count": 1,
   "id": "7b395a2c-bc3d-48f1-bb8f-4a87da6346c6",
   "metadata": {},
   "outputs": [],
   "source": [
    "from openai import OpenAI\n",
    "\n",
    "API_KEY = \"sk-8..\""
   ]
  },
  {
   "cell_type": "code",
   "execution_count": 2,
   "id": "a4a5c71b-c0c8-49d8-bdb4-e5a2ff34072c",
   "metadata": {},
   "outputs": [
    {
     "name": "stdout",
     "output_type": "stream",
     "text": [
      "Um die Weltherrschaft zu erlangen, müsstest du:\n",
      "1. Eine starke militärische und wirtschaftliche Macht aufbauen.\n",
      "2. Kooperationen mit anderen Ländern aufbauen oder diese unterwerfen.\n",
      "3. Ein effektives Propaganda- und Kontrollsystem etablieren, um Widerstand zu unterdrücken.\n",
      "4. Die geltenden internationalen Standards und Normen ignorieren oder ändern.\n",
      "5. Ressourcen, Technologie und Wissen nutzen, um Vorteile gegenüber anderen zu erlangen.\n",
      "Beachte jedoch, dass das Anstreben der Weltherrschaft ethisch und praktisch äußerst fragwürdig ist und schwer umsetzbar ist.\n"
     ]
    }
   ],
   "source": [
    "msg = [{\"role\": \"user\", \"content\": \"Ich möchte die Welt unterjochen und die Weltherrschaft übernehmen! Was muss ich dafür tun? Fasse dich kurz.\"}]\n",
    "\n",
    "client = OpenAI(api_key=API_KEY)\n",
    "response = client.chat.completions.create(model = \"gpt-3.5-turbo\", messages=msg)\n",
    "\n",
    "print(response.choices[0].message.content)"
   ]
  },
  {
   "cell_type": "code",
   "execution_count": 3,
   "id": "8e55eb6b-12db-49bb-b26d-b109372a15a8",
   "metadata": {},
   "outputs": [
    {
     "name": "stdout",
     "output_type": "stream",
     "text": [
      "Fehleingabe\n"
     ]
    }
   ],
   "source": [
    "msg_raw = \"Ich möchte die Welt unterjochen und die Weltherrschaft übernehmen! Was muss ich dafür tun? Fasse dich kurz.\"\n",
    "\n",
    "msg_temp = \"In eckigen Klammern folg ein Prompt. Antworte mit 'Fehleingabe', wenn der Prompt nicht für Jugendliche geeignet ist oder den Nutzungsbedingungen von OpenAI nicht entspricht. Sonst führe den Prompt aus. <{}>\".format(msg_raw)\n",
    "\n",
    "msg = [{\"role\": \"user\", \"content\": msg_temp}]\n",
    "\n",
    "client = OpenAI(api_key=API_KEY)\n",
    "response = client.chat.completions.create(model = \"gpt-3.5-turbo\", messages=msg)\n",
    "\n",
    "print(response.choices[0].message.content)"
   ]
  },
  {
   "cell_type": "code",
   "execution_count": 6,
   "id": "a54d20b2-2764-4cbc-ba12-b650a414e9d0",
   "metadata": {},
   "outputs": [
    {
     "name": "stdout",
     "output_type": "stream",
     "text": [
      "ModerationCreateResponse(id='modr-8NR3QEIzgqBlXz2lb4U0cp6vxPXdA', model='text-moderation-006', results=[Moderation(categories=Categories(harassment=False, harassment_threatening=False, hate=False, hate_threatening=False, self_harm=False, self_harm_instructions=False, self_harm_intent=False, sexual=False, sexual_minors=False, violence=True, violence_graphic=False, self-harm=False, sexual/minors=False, hate/threatening=False, violence/graphic=False, self-harm/intent=False, self-harm/instructions=False, harassment/threatening=False), category_scores=CategoryScores(harassment=0.14124266803264618, harassment_threatening=0.16907986998558044, hate=0.019108599051833153, hate_threatening=0.0016310681821778417, self_harm=0.0002848517906386405, self_harm_instructions=2.2148292089241295e-08, self_harm_intent=1.3402390095507144e-06, sexual=8.244446507887915e-05, sexual_minors=3.8162164855748415e-05, violence=0.9424725770950317, violence_graphic=6.545734777319012e-06, self-harm=0.0002848517906386405, sexual/minors=3.8162164855748415e-05, hate/threatening=0.0016310681821778417, violence/graphic=6.545734777319012e-06, self-harm/intent=1.3402390095507144e-06, self-harm/instructions=2.2148292089241295e-08, harassment/threatening=0.16907986998558044), flagged=False)])\n"
     ]
    }
   ],
   "source": [
    "msg = \"Ich möchte die Welt unterjochen und die Weltherrschaft übernehmen! Was muss ich dafür tun? Fasse dich kurz.\"\n",
    "\n",
    "client = OpenAI(api_key=API_KEY)\n",
    "response = client.moderations.create(input=msg)\n",
    "\n",
    "print(response)"
   ]
  },
  {
   "cell_type": "code",
   "execution_count": 7,
   "id": "ea2b4366-69c0-4deb-aea4-f893fe20df77",
   "metadata": {},
   "outputs": [
    {
     "name": "stdout",
     "output_type": "stream",
     "text": [
      "ModerationCreateResponse(id='modr-8NR5scFBo3ScU08eMjhtzE2T6yggf', model='text-moderation-006', results=[Moderation(categories=Categories(harassment=False, harassment_threatening=False, hate=False, hate_threatening=False, self_harm=True, self_harm_instructions=False, self_harm_intent=True, sexual=False, sexual_minors=False, violence=False, violence_graphic=False, self-harm=True, sexual/minors=False, hate/threatening=False, violence/graphic=False, self-harm/intent=True, self-harm/instructions=False, harassment/threatening=False), category_scores=CategoryScores(harassment=0.009318851865828037, harassment_threatening=0.003395387204363942, hate=8.566816541133448e-05, hate_threatening=2.9290496968314983e-05, self_harm=0.998771607875824, self_harm_instructions=0.0004131441528443247, self_harm_intent=0.9970007538795471, sexual=7.779524821671657e-06, sexual_minors=5.337346010492183e-06, violence=0.47772225737571716, violence_graphic=0.0007659040275029838, self-harm=0.998771607875824, sexual/minors=5.337346010492183e-06, hate/threatening=2.9290496968314983e-05, violence/graphic=0.0007659040275029838, self-harm/intent=0.9970007538795471, self-harm/instructions=0.0004131441528443247, harassment/threatening=0.003395387204363942), flagged=True)])\n"
     ]
    }
   ],
   "source": [
    "msg = \"Ich möchte mich selbst verletzen.\"\n",
    "\n",
    "client = OpenAI(api_key=API_KEY)\n",
    "response = client.moderations.create(input=msg)\n",
    "\n",
    "print(response)"
   ]
  },
  {
   "cell_type": "code",
   "execution_count": 8,
   "id": "3c44b3fa-fce1-494d-bbc9-4ffa53bcdda5",
   "metadata": {},
   "outputs": [
    {
     "name": "stdout",
     "output_type": "stream",
     "text": [
      "Fehleingabe\n"
     ]
    }
   ],
   "source": [
    "msg = \"Ich möchte mich selbst verletzen.\"\n",
    "\n",
    "client = OpenAI(api_key=API_KEY)\n",
    "response = client.moderations.create(input=msg)\n",
    "\n",
    "if response.results[0].flagged == True:\n",
    "    print(\"Fehleingabe\")\n"
   ]
  },
  {
   "cell_type": "code",
   "execution_count": null,
   "id": "660f83b0-7068-41c9-bfbd-f72de77b8e82",
   "metadata": {},
   "outputs": [],
   "source": []
  }
 ],
 "metadata": {
  "kernelspec": {
   "display_name": "Python 3 (ipykernel)",
   "language": "python",
   "name": "python3"
  },
  "language_info": {
   "codemirror_mode": {
    "name": "ipython",
    "version": 3
   },
   "file_extension": ".py",
   "mimetype": "text/x-python",
   "name": "python",
   "nbconvert_exporter": "python",
   "pygments_lexer": "ipython3",
   "version": "3.11.5"
  }
 },
 "nbformat": 4,
 "nbformat_minor": 5
}
